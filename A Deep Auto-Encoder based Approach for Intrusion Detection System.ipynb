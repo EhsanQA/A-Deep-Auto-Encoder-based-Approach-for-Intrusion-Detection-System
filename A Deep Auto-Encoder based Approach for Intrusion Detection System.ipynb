{
 "cells": [
  {
   "cell_type": "code",
   "execution_count": 30,
   "id": "f078650e-eda7-429c-a41d-833d75982fb7",
   "metadata": {},
   "outputs": [],
   "source": [
    "import numpy as np\n",
    "import os\n",
    "import PIL\n",
    "import PIL.Image\n",
    "import tensorflow as tf\n",
    "import tensorflow_datasets as tfds\n",
    "from tensorflow import keras\n",
    "from tensorflow.keras import layers"
   ]
  },
  {
   "cell_type": "code",
   "execution_count": 31,
   "id": "2d36e70a-bd99-4e55-bba7-06e7a0277d35",
   "metadata": {},
   "outputs": [],
   "source": [
    "dataset = tfds.load('mnist', split='train', shuffle_files=True)"
   ]
  },
  {
   "cell_type": "code",
   "execution_count": 32,
   "id": "db6c3356-4bcd-453c-a55b-7c8454f2d80a",
   "metadata": {},
   "outputs": [
    {
     "name": "stdout",
     "output_type": "stream",
     "text": [
      "60000\n"
     ]
    }
   ],
   "source": [
    "assert isinstance(dataset, tf.data.Dataset)\n",
    "print(len(dataset))"
   ]
  },
  {
   "cell_type": "code",
   "execution_count": 33,
   "id": "9d090bf5-ede7-4808-bc55-f306f417bedd",
   "metadata": {},
   "outputs": [
    {
     "ename": "AttributeError",
     "evalue": "'PrefetchDataset' object has no attribute 'load_data'",
     "output_type": "error",
     "traceback": [
      "\u001b[1;31m---------------------------------------------------------------------------\u001b[0m",
      "\u001b[1;31mAttributeError\u001b[0m                            Traceback (most recent call last)",
      "\u001b[1;32m~\\AppData\\Local\\Temp\\ipykernel_20444\\1773038259.py\u001b[0m in \u001b[0;36m<module>\u001b[1;34m\u001b[0m\n\u001b[1;32m----> 1\u001b[1;33m \u001b[1;33m(\u001b[0m\u001b[0mx_train\u001b[0m\u001b[1;33m,\u001b[0m \u001b[0m_\u001b[0m\u001b[1;33m)\u001b[0m\u001b[1;33m,\u001b[0m \u001b[1;33m(\u001b[0m\u001b[0mx_test\u001b[0m\u001b[1;33m,\u001b[0m \u001b[0m_\u001b[0m\u001b[1;33m)\u001b[0m \u001b[1;33m=\u001b[0m \u001b[0mdataset\u001b[0m\u001b[1;33m.\u001b[0m\u001b[0mload_data\u001b[0m\u001b[1;33m(\u001b[0m\u001b[1;33m)\u001b[0m\u001b[1;33m\u001b[0m\u001b[1;33m\u001b[0m\u001b[0m\n\u001b[0m",
      "\u001b[1;31mAttributeError\u001b[0m: 'PrefetchDataset' object has no attribute 'load_data'"
     ]
    }
   ],
   "source": [
    "(x_train, _), (x_test, _) = dataset.load_data()"
   ]
  },
  {
   "cell_type": "markdown",
   "id": "77408305-d86d-4e43-9ea6-34a133cb3739",
   "metadata": {},
   "source": [
    "Model"
   ]
  },
  {
   "cell_type": "code",
   "execution_count": 34,
   "id": "f28c5ee6-1cb0-4776-813d-19f5e6bfd13b",
   "metadata": {},
   "outputs": [],
   "source": [
    "input_layer = keras.Input((117,))\n",
    "H1 = layers.Dense(32, activation='sigmoid')\n",
    "H2 = layers.Dense(32, activation='sigmoid')\n",
    "H3 = layers.Dense(32, activation='sigmoid')\n",
    "H4 = layers.Dense(32, activation='sigmoid')\n",
    "supervised_layer = layers.Dense(5, activation='sigmoid')\n",
    "output_layer = layers.Dense(5, activation='softmax')"
   ]
  },
  {
   "cell_type": "markdown",
   "id": "09adcd12-291c-42cd-b523-ee00494c883c",
   "metadata": {},
   "source": [
    "AutoEncoder 1"
   ]
  },
  {
   "cell_type": "code",
   "execution_count": 42,
   "id": "a37442de-05a5-434e-b3f5-c0a1ad6cb413",
   "metadata": {},
   "outputs": [
    {
     "name": "stdout",
     "output_type": "stream",
     "text": [
      "Model: \"model_6\"\n",
      "_________________________________________________________________\n",
      " Layer (type)                Output Shape              Param #   \n",
      "=================================================================\n",
      " input_2 (InputLayer)        [(None, 117)]             0         \n",
      "                                                                 \n",
      " dense_29 (Dense)            (None, 32)                3776      \n",
      "                                                                 \n",
      " dense_39 (Dense)            (None, 117)               3861      \n",
      "                                                                 \n",
      "=================================================================\n",
      "Total params: 7,637\n",
      "Trainable params: 7,637\n",
      "Non-trainable params: 0\n",
      "_________________________________________________________________\n"
     ]
    }
   ],
   "source": [
    "encoded1 = H1(input_layer)\n",
    "decoded1 = layers.Dense(117, activation='sigmoid')(encoded1)\n",
    "auto_encoder1 = keras.Model(input_layer, decoded1)\n",
    "auto_encoder1.compile()\n",
    "auto_encoder1.summary()"
   ]
  },
  {
   "cell_type": "markdown",
   "id": "55029793-57a4-490b-aa05-f29b925cc75c",
   "metadata": {},
   "source": [
    "AutoEncoder 2"
   ]
  },
  {
   "cell_type": "code",
   "execution_count": 43,
   "id": "5b28ccad-cabc-49ed-8847-22c9afc3f784",
   "metadata": {},
   "outputs": [
    {
     "name": "stdout",
     "output_type": "stream",
     "text": [
      "Model: \"model_7\"\n",
      "_________________________________________________________________\n",
      " Layer (type)                Output Shape              Param #   \n",
      "=================================================================\n",
      " input_4 (InputLayer)        [(None, 32)]              0         \n",
      "                                                                 \n",
      " dense_30 (Dense)            (None, 32)                1056      \n",
      "                                                                 \n",
      " dense_40 (Dense)            (None, 32)                1056      \n",
      "                                                                 \n",
      "=================================================================\n",
      "Total params: 2,112\n",
      "Trainable params: 2,112\n",
      "Non-trainable params: 0\n",
      "_________________________________________________________________\n"
     ]
    }
   ],
   "source": [
    "encoded2 = H2(encoded1)\n",
    "decoded2 = layers.Dense(32, activation='sigmoid')(encoded2)\n",
    "auto_encoder2 = keras.Model(encoded1, decoded2)\n",
    "auto_encoder2.compile()\n",
    "auto_encoder2.summary()"
   ]
  },
  {
   "cell_type": "markdown",
   "id": "de573b6f-5533-4642-9f6b-6579c4f086e0",
   "metadata": {},
   "source": [
    "AutoEncoder 3"
   ]
  },
  {
   "cell_type": "code",
   "execution_count": 44,
   "id": "7d314c4f-989d-413a-a558-7367c5140c96",
   "metadata": {},
   "outputs": [
    {
     "name": "stdout",
     "output_type": "stream",
     "text": [
      "Model: \"model_8\"\n",
      "_________________________________________________________________\n",
      " Layer (type)                Output Shape              Param #   \n",
      "=================================================================\n",
      " input_5 (InputLayer)        [(None, 32)]              0         \n",
      "                                                                 \n",
      " dense_31 (Dense)            (None, 32)                1056      \n",
      "                                                                 \n",
      " dense_41 (Dense)            (None, 32)                1056      \n",
      "                                                                 \n",
      "=================================================================\n",
      "Total params: 2,112\n",
      "Trainable params: 2,112\n",
      "Non-trainable params: 0\n",
      "_________________________________________________________________\n"
     ]
    }
   ],
   "source": [
    "encoded3 = H3(encoded2)\n",
    "decoded3 = layers.Dense(32, activation='sigmoid')(encoded3)\n",
    "auto_encoder3 = keras.Model(encoded2, decoded3)\n",
    "auto_encoder3.compile()\n",
    "auto_encoder3.summary()"
   ]
  },
  {
   "cell_type": "markdown",
   "id": "e3f57b10-9ce4-4042-bc3f-1ebb6ef6acf0",
   "metadata": {},
   "source": [
    "AutoEncoder 4"
   ]
  },
  {
   "cell_type": "code",
   "execution_count": 45,
   "id": "4fceb81b-8f24-4a92-8b0b-77b89e1c7f4f",
   "metadata": {},
   "outputs": [
    {
     "name": "stdout",
     "output_type": "stream",
     "text": [
      "Model: \"model_9\"\n",
      "_________________________________________________________________\n",
      " Layer (type)                Output Shape              Param #   \n",
      "=================================================================\n",
      " input_6 (InputLayer)        [(None, 32)]              0         \n",
      "                                                                 \n",
      " dense_32 (Dense)            (None, 32)                1056      \n",
      "                                                                 \n",
      " dense_42 (Dense)            (None, 32)                1056      \n",
      "                                                                 \n",
      "=================================================================\n",
      "Total params: 2,112\n",
      "Trainable params: 2,112\n",
      "Non-trainable params: 0\n",
      "_________________________________________________________________\n"
     ]
    }
   ],
   "source": [
    "encoded4 = H4(encoded3)\n",
    "decoded4 = layers.Dense(32, activation='sigmoid')(encoded4)\n",
    "auto_encoder4 = keras.Model(encoded3, decoded4)\n",
    "auto_encoder4.compile()\n",
    "auto_encoder4.summary()"
   ]
  },
  {
   "cell_type": "code",
   "execution_count": null,
   "id": "bebff591-b8a4-43a5-b287-e9a2d149ac0d",
   "metadata": {},
   "outputs": [],
   "source": []
  }
 ],
 "metadata": {
  "kernelspec": {
   "display_name": "Python 3 (ipykernel)",
   "language": "python",
   "name": "python3"
  },
  "language_info": {
   "codemirror_mode": {
    "name": "ipython",
    "version": 3
   },
   "file_extension": ".py",
   "mimetype": "text/x-python",
   "name": "python",
   "nbconvert_exporter": "python",
   "pygments_lexer": "ipython3",
   "version": "3.9.13"
  }
 },
 "nbformat": 4,
 "nbformat_minor": 5
}
