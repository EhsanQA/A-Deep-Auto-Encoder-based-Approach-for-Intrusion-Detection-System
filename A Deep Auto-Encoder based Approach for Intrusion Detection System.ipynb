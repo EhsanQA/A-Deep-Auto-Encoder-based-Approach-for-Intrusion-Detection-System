{
 "cells": [
  {
   "cell_type": "code",
   "execution_count": 1,
   "id": "f078650e-eda7-429c-a41d-833d75982fb7",
   "metadata": {},
   "outputs": [],
   "source": [
    "import numpy as np\n",
    "import os\n",
    "import PIL\n",
    "import PIL.Image\n",
    "import tensorflow as tf\n",
    "import tensorflow_datasets as tfds\n",
    "from tensorflow import keras\n",
    "from tensorflow.keras import layers\n",
    "from keras.callbacks import TensorBoard\n",
    "from tqdm import tqdm\n",
    "import matplotlib.pyplot as plt\n",
    "from keras import backend as K"
   ]
  },
  {
   "cell_type": "markdown",
   "id": "aa29bec5-68b2-4627-aa36-699fb684fcf8",
   "metadata": {},
   "source": [
    "# Dataset Preperation"
   ]
  },
  {
   "cell_type": "raw",
   "id": "89668d9e-f1b3-401a-a82c-e1a1660c9bb4",
   "metadata": {},
   "source": [
    "tfds.list_builders()"
   ]
  },
  {
   "cell_type": "raw",
   "id": "b78d1569-540b-45ff-bf63-f8fbf336baec",
   "metadata": {},
   "source": [
    "(ds_train, ds_test), ds_info = tfds.load(\n",
    "    'kddcup99',\n",
    "    split=['train', 'test'],\n",
    "    shuffle_files=False,\n",
    "    as_supervised=False,\n",
    "    with_info=True,\n",
    ")"
   ]
  },
  {
   "cell_type": "markdown",
   "id": "af9354c4-286b-40a6-895e-92beb9e34be8",
   "metadata": {},
   "source": [
    "Preprocess"
   ]
  },
  {
   "cell_type": "raw",
   "id": "40f5ac81-4a76-4ab8-812e-87a5230df77a",
   "metadata": {},
   "source": [
    "ds_info"
   ]
  },
  {
   "cell_type": "raw",
   "id": "44348cee-8c8b-4019-aa1e-212bc2e5260d",
   "metadata": {},
   "source": [
    "nos = ['flag', 'label', 'protocol_type', 'service']"
   ]
  },
  {
   "cell_type": "raw",
   "id": "61464fac-9420-43c4-bf5c-f0599c075e18",
   "metadata": {},
   "source": [
    "dataset1 = np.ndarray((len(ds_test) , 38), dtype=np.float32)\n",
    "\n",
    "i = 0\n",
    "for datapoint in tqdm(ds_test.enumerate()):\n",
    "    if (i >= len(ds_test)):\n",
    "        break\n",
    "    j = 0\n",
    "    for item in datapoint[1].items():\n",
    "        if (j >= 38):\n",
    "            break\n",
    "        if item[0] not in nos:\n",
    "            dataset1[i][j] = float(item[1])\n",
    "            j += 1\n",
    "    i += 1\n",
    "print(dataset1[0])"
   ]
  },
  {
   "cell_type": "raw",
   "id": "f49c63ad-884b-4616-a027-4400ad51ec46",
   "metadata": {},
   "source": [
    "dataset2 = np.ndarray((len(ds_test), 89), dtype=np.float32)\n",
    "i = 0\n",
    "for datapoint in tqdm(ds_test.enumerate()):\n",
    "    if (i >= len(ds_test)):\n",
    "        break\n",
    "    j = 0\n",
    "    for item in datapoint[1].items():\n",
    "        if (j >= 4):\n",
    "            break\n",
    "        if item[0] in nos:\n",
    "            if (item[0] == 'protocol_type'):\n",
    "                dataset2[i][item[1]] = 1\n",
    "            elif (item[0] == 'flag'):\n",
    "                # print(item[1])\n",
    "                dataset2[i][item[1] + 3] = 1\n",
    "            elif (item[0] == 'service'):\n",
    "                dataset2[i][item[1] + 14] = 1\n",
    "            elif (item[0] == 'label'):\n",
    "                if (float(item[1]) == 1):\n",
    "                    dataset2[i][79] = 1\n",
    "                elif (float(item[1]) == 7):\n",
    "                    dataset2[i][80] = 1\n",
    "                elif (float(item[1]) == 14):\n",
    "                    dataset2[i][81] = 1\n",
    "                elif (float(item[1]) == 15):\n",
    "                    dataset2[i][82] = 1\n",
    "                elif (float(item[1]) == 16):\n",
    "                    dataset2[i][83] = 1\n",
    "                elif (float(item[1]) == 20):\n",
    "                    dataset2[i][84] = 1\n",
    "                elif (float(item[1]) == 23):\n",
    "                    dataset2[i][85] = 1\n",
    "                elif (float(item[1]) == 25):\n",
    "                    dataset2[i][86] = 1\n",
    "                elif (float(item[1]) == 27):\n",
    "                    dataset2[i][87] = 1\n",
    "                elif (float(item[1]) == 34):\n",
    "                    dataset2[i][88] = 1\n",
    "            j += 1\n",
    "    i += 1\n",
    "print(dataset2)"
   ]
  },
  {
   "cell_type": "raw",
   "id": "7613ebf4-d96f-41a9-abc2-d8c93bbf8e13",
   "metadata": {},
   "source": [
    "dataset1_ = np.array(np.array(((dataset1 - dataset1.min(axis=0)) / (dataset1.max(axis=0) - dataset1.min(axis=0))) * 10000), dtype=np.int32) / 10000\n",
    "print(dataset1_)"
   ]
  },
  {
   "cell_type": "raw",
   "id": "e9ad7a4b-820b-458a-8f3f-cd6837c9ddff",
   "metadata": {},
   "source": [
    "dataset_to_uniqued = np.concatenate((dataset1_, dataset2), axis=1)"
   ]
  },
  {
   "cell_type": "raw",
   "id": "e247c648-9850-4005-bf75-4db9d0ade22c",
   "metadata": {},
   "source": [
    "uniqued_dataset = np.unique(dataset_to_uniqued, axis=0)\n",
    "print(uniqued_dataset.shape)"
   ]
  },
  {
   "cell_type": "raw",
   "id": "dc56bbcf-7f7b-4324-a69d-b06cf369a6f0",
   "metadata": {},
   "source": [
    "np.save(\"./kdd99_dataset_FINAL_test.npy\", uniqued_dataset)"
   ]
  },
  {
   "cell_type": "raw",
   "id": "8393cee0-e736-4676-bd91-77d05aee347c",
   "metadata": {},
   "source": [
    "del uniqued_dataset"
   ]
  },
  {
   "cell_type": "code",
   "execution_count": 2,
   "id": "b1d1567e-38d1-4593-b2cb-b2e456f98a08",
   "metadata": {},
   "outputs": [],
   "source": [
    "test_dataset = np.load('./kdd99_dataset_FINAL_test.npy', mmap_mode=\"r\")"
   ]
  },
  {
   "cell_type": "code",
   "execution_count": 3,
   "id": "4aca33bc-aad0-4d07-8929-a20931dfeee7",
   "metadata": {},
   "outputs": [],
   "source": [
    "uniqued_dataset_2 = np.load('./kdd99_dataset_FINAL.npy', mmap_mode=\"r\")"
   ]
  },
  {
   "cell_type": "code",
   "execution_count": 4,
   "id": "60337d6c-09d7-4c2d-907f-c6a6cfed83ad",
   "metadata": {},
   "outputs": [],
   "source": [
    "uniqued_dataset_2 = np.around(uniqued_dataset_2, 2)\n",
    "uniqued_dataset_2 = np.unique(uniqued_dataset_2, axis=0)\n",
    "test_dataset = np.around(test_dataset, 2)\n",
    "test_dataset = np.unique(test_dataset, axis=0)"
   ]
  },
  {
   "cell_type": "code",
   "execution_count": 5,
   "id": "7213af37-ab7b-438a-a46d-feac1a6aa01f",
   "metadata": {},
   "outputs": [],
   "source": [
    "dataset = uniqued_dataset_2"
   ]
  },
  {
   "cell_type": "raw",
   "id": "df852acf-aa8c-4033-8920-89cd567ca3b6",
   "metadata": {},
   "source": [
    "dataset = np.unique(dataset, axis=0)\n",
    "dataset.shape"
   ]
  },
  {
   "cell_type": "code",
   "execution_count": 6,
   "id": "138af961-a389-4f19-9872-72ac3c9f6a0e",
   "metadata": {},
   "outputs": [],
   "source": [
    "dataset_labels = dataset[:, 117:]"
   ]
  },
  {
   "cell_type": "code",
   "execution_count": 7,
   "id": "88146245-3167-4be3-8619-937baca8e26e",
   "metadata": {},
   "outputs": [],
   "source": [
    "dataset_without_label = dataset[:, :117]"
   ]
  },
  {
   "cell_type": "markdown",
   "id": "7db9fe80-7e45-414b-8af1-62acbfc6c34a",
   "metadata": {},
   "source": [
    "### TRACE"
   ]
  },
  {
   "cell_type": "raw",
   "id": "8e1e7fdc-010d-4501-93ff-b4886b6b3374",
   "metadata": {},
   "source": [
    "dataset_without_label = dataset_without_label[:10]\n",
    "dataset_labels = dataset_labels[:10]"
   ]
  },
  {
   "cell_type": "code",
   "execution_count": 8,
   "id": "b5d4f7fa-4b84-44e4-810c-b83632e3d877",
   "metadata": {},
   "outputs": [
    {
     "data": {
      "image/png": "[encoded data removed]",
      "text/plain": [
       "<Figure size 640x480 with 1 Axes>"
      ]
     },
     "metadata": {},
     "output_type": "display_data"
    }
   ],
   "source": [
    "y_tr_idx = dataset_labels[:, :].argmax(axis=1)\n",
    "class_density = plt.hist(y_tr_idx, bins=10, range=(-0.5, 9.5), density=True)[0]\n",
    "# class_weights = 1 / class_density\n",
    "# class_weights = class_weights / np.max(class_weights)"
   ]
  },
  {
   "cell_type": "raw",
   "id": "eb4ab029-8a73-43e2-abec-fc4755ab471a",
   "metadata": {},
   "source": [
    "y_tr_idx2 = test_dataset[:, :].argmax(axis=1)\n",
    "class_density2 = plt.hist(y_tr_idx2, bins=10, range=(-0.5, 9.5), density=False)[0]"
   ]
  },
  {
   "cell_type": "code",
   "execution_count": 9,
   "id": "f2ba67e5-de55-48d6-b699-93310a6d02d7",
   "metadata": {},
   "outputs": [],
   "source": [
    "test_dataset[:, [3, 4]] = test_dataset[:, [4, 3]]"
   ]
  },
  {
   "cell_type": "code",
   "execution_count": 10,
   "id": "80917a1a-9673-4f14-b5c0-a9c821a22b47",
   "metadata": {},
   "outputs": [],
   "source": [
    "args = np.argmax(dataset_labels, axis=1)\n",
    "mask = np.logical_or(np.logical_or(args<2, np.logical_and(args<6, args>3)), args==5)\n",
    "# mask = np.logical_or(args<=2, np.logical_and(args<6, args>3))\n",
    "\n",
    "args2 = np.argmax(test_dataset, axis=1)\n",
    "mask2 = np.logical_and(args2<5, args2>=0)\n",
    "# mask2 = np.logical_or(args2<=2, np.logical_and(args2<6, args2>3))"
   ]
  },
  {
   "cell_type": "code",
   "execution_count": null,
   "id": "4dff29ac-b280-4e06-b39c-e73f5d93f9a9",
   "metadata": {},
   "outputs": [],
   "source": []
  },
  {
   "cell_type": "code",
   "execution_count": null,
   "id": "9aef79a4-4484-4b5e-847f-b3947ba5aca3",
   "metadata": {},
   "outputs": [],
   "source": []
  },
  {
   "cell_type": "code",
   "execution_count": null,
   "id": "29b39b67-ee35-49c0-aee3-01644aaf4a55",
   "metadata": {},
   "outputs": [],
   "source": []
  },
  {
   "cell_type": "code",
   "execution_count": null,
   "id": "4173a2d4-6872-4916-a5fd-237953288fc1",
   "metadata": {},
   "outputs": [],
   "source": []
  },
  {
   "cell_type": "code",
   "execution_count": 11,
   "id": "fdfe5b54-5ae1-407f-9f7f-f359ba826840",
   "metadata": {},
   "outputs": [
    {
     "data": {
      "text/plain": [
       "array([4, 4, 4, ..., 4, 5, 1], dtype=int64)"
      ]
     },
     "execution_count": 11,
     "metadata": {},
     "output_type": "execute_result"
    }
   ],
   "source": [
    "args[mask]"
   ]
  },
  {
   "cell_type": "code",
   "execution_count": 12,
   "id": "4f4819dc-439f-48a2-805c-e9bf5a088af6",
   "metadata": {},
   "outputs": [],
   "source": [
    "dataset_labels = dataset_labels[mask, ...]\n",
    "dataset_without_label = dataset_without_label[mask, ...]\n",
    "test_dataset = test_dataset[mask2, ...]"
   ]
  },
  {
   "cell_type": "code",
   "execution_count": 13,
   "id": "8d4cf4cd-aebf-4fb2-a1e6-c6f49a8a6397",
   "metadata": {},
   "outputs": [
    {
     "data": {
      "image/png": "[encoded data removed]",
      "text/plain": [
       "<Figure size 640x480 with 1 Axes>"
      ]
     },
     "metadata": {},
     "output_type": "display_data"
    }
   ],
   "source": [
    "y_tr_idx2 = dataset_labels[:, :].argmax(axis=1)\n",
    "class_density = plt.hist(y_tr_idx2, bins=10, range=(-0.5, 9.5), density=True)[0]\n",
    "# class_weights = 1 / class_density\n",
    "# class_weights = class_weights / np.max(class_weights)"
   ]
  },
  {
   "cell_type": "raw",
   "id": "7cda832a-9109-4171-8cc4-ce7e2a0a0857",
   "metadata": {},
   "source": [
    "y_tr_idx2 = test_dataset[:, :].argmax(axis=1)\n",
    "class_density2 = plt.hist(y_tr_idx2, bins=10, range=(-0.5, 9.5), density=False)[0]"
   ]
  },
  {
   "cell_type": "markdown",
   "id": "77408305-d86d-4e43-9ea6-34a133cb3739",
   "metadata": {},
   "source": [
    "# Model"
   ]
  },
  {
   "cell_type": "code",
   "execution_count": 14,
   "id": "f28c5ee6-1cb0-4776-813d-19f5e6bfd13b",
   "metadata": {},
   "outputs": [],
   "source": [
    "input_layer = keras.Input((117,))\n",
    "H1 = layers.Dense(32, activation='sigmoid')\n",
    "H2 = layers.Dense(32, activation='sigmoid')\n",
    "H3 = layers.Dense(32, activation='sigmoid')\n",
    "H4 = layers.Dense(32, activation='sigmoid')\n",
    "supervised_layer = layers.Dense(5, activation='sigmoid')\n",
    "output_layer = layers.Dense(5, activation='softmax')"
   ]
  },
  {
   "cell_type": "markdown",
   "id": "09adcd12-291c-42cd-b523-ee00494c883c",
   "metadata": {},
   "source": [
    "### AutoEncoder 1"
   ]
  },
  {
   "cell_type": "code",
   "execution_count": 15,
   "id": "a37442de-05a5-434e-b3f5-c0a1ad6cb413",
   "metadata": {},
   "outputs": [
    {
     "name": "stdout",
     "output_type": "stream",
     "text": [
      "Model: \"model\"\n",
      "_________________________________________________________________\n",
      " Layer (type)                Output Shape              Param #   \n",
      "=================================================================\n",
      " input_1 (InputLayer)        [(None, 117)]             0         \n",
      "                                                                 \n",
      " dense (Dense)               (None, 32)                3776      \n",
      "                                                                 \n",
      " dense_6 (Dense)             (None, 117)               3861      \n",
      "                                                                 \n",
      "=================================================================\n",
      "Total params: 7,637\n",
      "Trainable params: 7,637\n",
      "Non-trainable params: 0\n",
      "_________________________________________________________________\n"
     ]
    }
   ],
   "source": [
    "encoded1 = H1(input_layer)\n",
    "decoded1 = layers.Dense(117,)(encoded1)\n",
    "auto_encoder1 = keras.Model(input_layer, decoded1)\n",
    "auto_encoder1.compile(loss=\"mse\", metrics=[\"mse\", 'mae'], weighted_metrics=[\"mse\", 'mae'])\n",
    "auto_encoder1.summary()"
   ]
  },
  {
   "cell_type": "code",
   "execution_count": 16,
   "id": "5b0b20ec-67f2-457a-8aac-9a4709d965b9",
   "metadata": {},
   "outputs": [],
   "source": [
    "only_encoded1 = keras.Model(input_layer, encoded1)\n",
    "only_encoded1.compile(loss=\"mse\")"
   ]
  },
  {
   "cell_type": "markdown",
   "id": "55029793-57a4-490b-aa05-f29b925cc75c",
   "metadata": {},
   "source": [
    "### AutoEncoder 2"
   ]
  },
  {
   "cell_type": "code",
   "execution_count": 17,
   "id": "5b28ccad-cabc-49ed-8847-22c9afc3f784",
   "metadata": {},
   "outputs": [],
   "source": [
    "encoded2 = H2(encoded1)\n",
    "decoded2 = layers.Dense(32,)(encoded2)\n",
    "auto_encoder2 = keras.Model(encoded1, decoded2)\n",
    "auto_encoder2.compile(loss=\"mse\", metrics=[\"mse\", 'mae'], weighted_metrics=[\"mse\", 'mae'])\n",
    "# auto_encoder2.summary()"
   ]
  },
  {
   "cell_type": "code",
   "execution_count": 18,
   "id": "3ab6c825-b86a-4970-9e2e-29bc7c0defe0",
   "metadata": {},
   "outputs": [],
   "source": [
    "only_encoded2 = keras.Model(input_layer, encoded2)\n",
    "only_encoded2.compile(loss=\"mse\", metrics=[\"mae\"])"
   ]
  },
  {
   "cell_type": "markdown",
   "id": "de573b6f-5533-4642-9f6b-6579c4f086e0",
   "metadata": {},
   "source": [
    "### AutoEncoder 3"
   ]
  },
  {
   "cell_type": "code",
   "execution_count": 19,
   "id": "7d314c4f-989d-413a-a558-7367c5140c96",
   "metadata": {},
   "outputs": [],
   "source": [
    "encoded3 = H3(encoded2)\n",
    "decoded3 = layers.Dense(32,)(encoded3)\n",
    "auto_encoder3 = keras.Model(encoded2, decoded3)\n",
    "auto_encoder3.compile(loss=\"mse\", metrics=[\"mse\", 'mae'], weighted_metrics=[\"mse\", 'mae'])\n",
    "# auto_encoder3.summary()"
   ]
  },
  {
   "cell_type": "code",
   "execution_count": 20,
   "id": "cec37065-7412-482d-91a8-bb5b46e12117",
   "metadata": {},
   "outputs": [],
   "source": [
    "only_encoded3 = keras.Model(input_layer, encoded3)\n",
    "only_encoded3.compile(loss=\"mse\", metrics=[\"mae\"])"
   ]
  },
  {
   "cell_type": "markdown",
   "id": "e3f57b10-9ce4-4042-bc3f-1ebb6ef6acf0",
   "metadata": {},
   "source": [
    "### AutoEncoder 4"
   ]
  },
  {
   "cell_type": "code",
   "execution_count": 21,
   "id": "4fceb81b-8f24-4a92-8b0b-77b89e1c7f4f",
   "metadata": {},
   "outputs": [],
   "source": [
    "encoded4 = H4(encoded3)\n",
    "decoded4 = layers.Dense(32,)(encoded4)\n",
    "auto_encoder4 = keras.Model(encoded3, decoded4)\n",
    "auto_encoder4.compile(loss=\"mse\", metrics=[\"mse\", 'mae'], weighted_metrics=[\"mse\", 'mae'])\n",
    "# auto_encoder4.summary()"
   ]
  },
  {
   "cell_type": "code",
   "execution_count": 22,
   "id": "64d647f1-be36-4d78-8a15-bb60887c3165",
   "metadata": {},
   "outputs": [],
   "source": [
    "only_encoded4 = keras.Model(input_layer, encoded4)\n",
    "only_encoded4.compile(loss=\"mse\", metrics=[\"mae\"])"
   ]
  },
  {
   "cell_type": "markdown",
   "id": "3be5c7d8-db6c-4513-b51b-41695c3defb5",
   "metadata": {},
   "source": [
    "### Supervised Layer"
   ]
  },
  {
   "cell_type": "code",
   "execution_count": 23,
   "id": "262a8dc4-a6ae-4024-8f06-49c299b9655c",
   "metadata": {},
   "outputs": [],
   "source": [
    "temp_ = supervised_layer(encoded4)\n",
    "out__ = output_layer(temp_)\n",
    "supervised_part = keras.Model(encoded4, out__)\n",
    "supervised_part.compile(loss='categorical_crossentropy', weighted_metrics=['accuracy', 'categorical_crossentropy'],\n",
    "                         metrics=['accuracy', 'categorical_crossentropy'])"
   ]
  },
  {
   "cell_type": "markdown",
   "id": "ffecb4ec-17ce-4261-9e67-5a7bff54f3cc",
   "metadata": {},
   "source": [
    "### Full Assembly of the Model"
   ]
  },
  {
   "cell_type": "code",
   "execution_count": 24,
   "id": "82049bb2-f67f-427d-b968-ef9ebc47f8d6",
   "metadata": {},
   "outputs": [],
   "source": [
    "temp = supervised_layer(encoded4)\n",
    "out_ = output_layer(temp)\n",
    "final_supervised = keras.Model(input_layer, out_)\n",
    "final_supervised.compile(loss='categorical_crossentropy', weighted_metrics=['accuracy', 'categorical_crossentropy'],\n",
    "                         metrics=['accuracy', 'categorical_crossentropy', tf.keras.metrics.TruePositives(\n",
    "    thresholds=None, name=None, dtype=None\n",
    "), tf.keras.metrics.FalseNegatives(\n",
    "    thresholds=None, name=None, dtype=None\n",
    "), tf.keras.metrics.TrueNegatives(\n",
    "    thresholds=None, name=None, dtype=None\n",
    "), tf.keras.metrics.FalsePositives(\n",
    "    thresholds=None, name=None, dtype=None\n",
    ")])\n",
    "K.set_value(final_supervised.optimizer.learning_rate, 0.001)"
   ]
  },
  {
   "cell_type": "markdown",
   "id": "dbc18db9-22c4-4482-9c6f-8342be2fb06a",
   "metadata": {},
   "source": [
    "# Training"
   ]
  },
  {
   "cell_type": "raw",
   "id": "ef69193b-3f31-429e-83a6-217e5f6e53fd",
   "metadata": {},
   "source": [
    "auto_encoder1 = tf.keras.models.load_model('./auto_encoder_1_')"
   ]
  },
  {
   "cell_type": "raw",
   "id": "45021773-ec17-4677-9186-df6d7bfb2994",
   "metadata": {},
   "source": [
    "my_sample_weights = class_weights[y_tr_idx[np.arange(dataset_without_label.shape[0])]]"
   ]
  },
  {
   "cell_type": "raw",
   "id": "f6aca775-0682-466c-a98c-c9f7ba7044fb",
   "metadata": {},
   "source": [
    "auto_encoder1.fit(dataset_without_label, dataset_without_label, epochs=25, batch_size=100,\n",
    "            shuffle=False, validation_data=None, sample_weight=my_sample_weights,\n",
    "            callbacks=[TensorBoard(log_dir='/tmp/autoencoder')])"
   ]
  },
  {
   "cell_type": "raw",
   "id": "25c28d38-6bf2-4963-954a-8e5e35abbd2f",
   "metadata": {},
   "source": [
    "auto_encoder1.save(\"./auto_encoder_1_\")"
   ]
  },
  {
   "cell_type": "raw",
   "id": "1241f2f6-433c-48f2-981e-a284ceb8f355",
   "metadata": {},
   "source": [
    "auto_encoder2 = tf.keras.models.load_model('./auto_encoder_2_')"
   ]
  },
  {
   "cell_type": "raw",
   "id": "0727eb21-a1e8-4461-9fe9-f08cce6a8309",
   "metadata": {},
   "source": [
    "auto_encoder2.fit(only_encoded1(dataset_without_label), only_encoded1(dataset_without_label), epochs=3, batch_size=100,\n",
    "            shuffle=False, validation_data=None, sample_weight=my_sample_weights,\n",
    "            callbacks=[TensorBoard(log_dir='/tmp/autoencoder2')])"
   ]
  },
  {
   "cell_type": "raw",
   "id": "749361d2-49dc-43bd-8a68-4d17ec3c6bb8",
   "metadata": {},
   "source": [
    "auto_encoder2.save(\"./auto_encoder_2_\")"
   ]
  },
  {
   "cell_type": "raw",
   "id": "8f53520c-9131-43dc-9655-509c2bdb224f",
   "metadata": {},
   "source": [
    "auto_encoder3 = tf.keras.models.load_model('./auto_encoder_3_')"
   ]
  },
  {
   "cell_type": "raw",
   "id": "f2f0f0aa-6fca-42c0-98d7-62ad6e421fac",
   "metadata": {},
   "source": [
    "auto_encoder3.fit(only_encoded2(dataset_without_label), only_encoded2(dataset_without_label), epochs=3, batch_size=100,\n",
    "            shuffle=False, validation_data=None, sample_weight=my_sample_weights,\n",
    "            callbacks=[TensorBoard(log_dir='/tmp/autoencoder3')])"
   ]
  },
  {
   "cell_type": "raw",
   "id": "b7648fa3-cc96-4d17-8a0d-78c3c1796987",
   "metadata": {},
   "source": [
    "auto_encoder3.save(\"./auto_encoder_3_\")"
   ]
  },
  {
   "cell_type": "raw",
   "id": "7a4a47ea-8d2b-420c-a582-42d4c432233b",
   "metadata": {},
   "source": [
    "auto_encoder4 = tf.keras.models.load_model('./auto_encoder_4_')"
   ]
  },
  {
   "cell_type": "raw",
   "id": "6477f63c-90bb-4b1b-9429-5045c640526c",
   "metadata": {},
   "source": [
    "auto_encoder4.fit(only_encoded3(dataset_without_label), only_encoded3(dataset_without_label), epochs=3, batch_size=100,\n",
    "            shuffle=False, validation_data=None, sample_weight=my_sample_weights,\n",
    "            callbacks=[TensorBoard(log_dir='/tmp/autoencoder4')])"
   ]
  },
  {
   "cell_type": "raw",
   "id": "c82aa4e1-c2c0-4ceb-a9c6-daaca1fcee3c",
   "metadata": {},
   "source": [
    "auto_encoder4.save(\"./auto_encoder_4_\")"
   ]
  },
  {
   "cell_type": "raw",
   "id": "c8e13854-74e7-48f6-8abf-751feeab6223",
   "metadata": {},
   "source": [
    "supervised_part = tf.keras.models.load_model('./supervised_part')"
   ]
  },
  {
   "cell_type": "raw",
   "id": "827ca00b-dbc6-408f-a271-47f8b0cfbf4e",
   "metadata": {},
   "source": [
    "supervised_part.fit(only_encoded4(dataset_without_label), dataset_labels[:, :10],\n",
    "            epochs=200, batch_size=100,\n",
    "            shuffle=True, validation_data=None, class_weight={i:class_weights[i] for i in range(10)},\n",
    "            callbacks=[TensorBoard(log_dir='/tmp/final_supervised')])"
   ]
  },
  {
   "cell_type": "raw",
   "id": "e0ac8efe-c4d1-4312-b4c0-64739e194d2b",
   "metadata": {},
   "source": [
    "supervised_part.save(\"./supervised_part\")"
   ]
  },
  {
   "cell_type": "raw",
   "id": "1db5a2f8-bf3c-4420-9166-f6e5994d009e",
   "metadata": {},
   "source": [
    "final_supervised = tf.keras.models.load_model('./final_supervised_')"
   ]
  },
  {
   "cell_type": "raw",
   "id": "d43664aa-66d6-4c50-9b84-631a2dc83d5c",
   "metadata": {},
   "source": [
    "class_weight = {i: class_weights[i] for i in range(10)}\n",
    "# class_weight = {i: 1 for i in range(10)}\n",
    "class_weight"
   ]
  },
  {
   "cell_type": "raw",
   "id": "f4d6720d-e0f4-48fe-af9a-45dc691bd0cf",
   "metadata": {},
   "source": [
    "without_last = np.concatenate((dataset_labels[:, :9], np.zeros((dataset_labels.shape[0], 1))), axis=1)\n",
    "without_last.shape"
   ]
  },
  {
   "cell_type": "raw",
   "id": "bdd81e42-5f40-4ce7-9cff-dc269bc69653",
   "metadata": {},
   "source": [
    "for i in range(100):\n",
    "    results = final_supervised.evaluate(dataset_without_label, dataset_labels[:, :5], batch_size=128)[1]\n",
    "    if (results >= 0.94):\n",
    "        break\n",
    "    final_supervised.fit(dataset_without_label, dataset_labels[:, :5],\n",
    "            epochs=1, batch_size=128,\n",
    "            shuffle=False, validation_data=None, class_weight={0: 0.9, 1: 0.9, 2: 1, 3: 0.1, 4: 0.9},\n",
    "            callbacks=[TensorBoard(log_dir='/tmp/final_supervised')])"
   ]
  },
  {
   "cell_type": "code",
   "execution_count": 25,
   "id": "3f03578b-3d40-4f80-89df-52b99d3f3477",
   "metadata": {},
   "outputs": [
    {
     "name": "stdout",
     "output_type": "stream",
     "text": [
      "2688/2688 [==============================] - 3s 846us/step - loss: 1.9273 - accuracy: 0.0000e+00 - categorical_crossentropy: 1.9273 - true_positives: 0.0000e+00 - false_negatives: 342096.0000 - true_negatives: 1377629.0000 - false_positives: 0.0000e+00 - weighted_accuracy: 0.0000e+00 - weighted_categorical_crossentropy: 1.9273\n",
      "2688/2688 [==============================] - 4s 1ms/step - loss: 0.2148 - accuracy: 0.9485 - categorical_crossentropy: 0.2148 - true_positives: 310373.0000 - false_negatives: 31723.0000 - true_negatives: 1371705.0000 - false_positives: 5924.0000 - weighted_accuracy: 0.9485 - weighted_categorical_crossentropy: 0.2148\n",
      "2688/2688 [==============================] - 2s 853us/step - loss: 0.1381 - accuracy: 0.9769 - categorical_crossentropy: 0.1381 - true_positives: 335986.0000 - false_negatives: 6110.0000 - true_negatives: 1369670.0000 - false_positives: 7959.0000 - weighted_accuracy: 0.9769 - weighted_categorical_crossentropy: 0.1381\n",
      "2688/2688 [==============================] - 3s 1ms/step - loss: 0.1320 - accuracy: 0.9769 - categorical_crossentropy: 0.1320 - true_positives: 335986.0000 - false_negatives: 6110.0000 - true_negatives: 1369670.0000 - false_positives: 7959.0000 - weighted_accuracy: 0.9769 - weighted_categorical_crossentropy: 0.1320\n"
     ]
    },
    {
     "ename": "KeyboardInterrupt",
     "evalue": "",
     "output_type": "error",
     "traceback": [
      "\u001b[1;31m---------------------------------------------------------------------------\u001b[0m",
      "\u001b[1;31mKeyboardInterrupt\u001b[0m                         Traceback (most recent call last)",
      "\u001b[1;32m~\\AppData\\Local\\Temp\\ipykernel_18696\\1846597461.py\u001b[0m in \u001b[0;36m<module>\u001b[1;34m\u001b[0m\n\u001b[0;32m      1\u001b[0m \u001b[1;32mfor\u001b[0m \u001b[0mi\u001b[0m \u001b[1;32min\u001b[0m \u001b[0mrange\u001b[0m\u001b[1;33m(\u001b[0m\u001b[1;36m100\u001b[0m\u001b[1;33m)\u001b[0m\u001b[1;33m:\u001b[0m\u001b[1;33m\u001b[0m\u001b[1;33m\u001b[0m\u001b[0m\n\u001b[1;32m----> 2\u001b[1;33m     \u001b[0mresults\u001b[0m \u001b[1;33m=\u001b[0m \u001b[0mfinal_supervised\u001b[0m\u001b[1;33m.\u001b[0m\u001b[0mevaluate\u001b[0m\u001b[1;33m(\u001b[0m\u001b[0mdataset_without_label\u001b[0m\u001b[1;33m,\u001b[0m \u001b[0mdataset_labels\u001b[0m\u001b[1;33m[\u001b[0m\u001b[1;33m:\u001b[0m\u001b[1;33m,\u001b[0m \u001b[1;33m:\u001b[0m\u001b[1;36m5\u001b[0m\u001b[1;33m]\u001b[0m\u001b[1;33m,\u001b[0m \u001b[0mbatch_size\u001b[0m\u001b[1;33m=\u001b[0m\u001b[1;36m128\u001b[0m\u001b[1;33m)\u001b[0m\u001b[1;33m[\u001b[0m\u001b[1;36m1\u001b[0m\u001b[1;33m]\u001b[0m\u001b[1;33m\u001b[0m\u001b[1;33m\u001b[0m\u001b[0m\n\u001b[0m\u001b[0;32m      3\u001b[0m     \u001b[1;32mif\u001b[0m \u001b[1;33m(\u001b[0m\u001b[0mresults\u001b[0m \u001b[1;33m>=\u001b[0m \u001b[1;36m0.99\u001b[0m\u001b[1;33m)\u001b[0m\u001b[1;33m:\u001b[0m\u001b[1;33m\u001b[0m\u001b[1;33m\u001b[0m\u001b[0m\n\u001b[0;32m      4\u001b[0m         \u001b[1;32mbreak\u001b[0m\u001b[1;33m\u001b[0m\u001b[1;33m\u001b[0m\u001b[0m\n\u001b[0;32m      5\u001b[0m     final_supervised.fit(dataset_without_label, dataset_labels[:, :5],\n",
      "\u001b[1;32mE:\\anaconda3\\lib\\site-packages\\keras\\utils\\traceback_utils.py\u001b[0m in \u001b[0;36merror_handler\u001b[1;34m(*args, **kwargs)\u001b[0m\n\u001b[0;32m     63\u001b[0m         \u001b[0mfiltered_tb\u001b[0m \u001b[1;33m=\u001b[0m \u001b[1;32mNone\u001b[0m\u001b[1;33m\u001b[0m\u001b[1;33m\u001b[0m\u001b[0m\n\u001b[0;32m     64\u001b[0m         \u001b[1;32mtry\u001b[0m\u001b[1;33m:\u001b[0m\u001b[1;33m\u001b[0m\u001b[1;33m\u001b[0m\u001b[0m\n\u001b[1;32m---> 65\u001b[1;33m             \u001b[1;32mreturn\u001b[0m \u001b[0mfn\u001b[0m\u001b[1;33m(\u001b[0m\u001b[1;33m*\u001b[0m\u001b[0margs\u001b[0m\u001b[1;33m,\u001b[0m \u001b[1;33m**\u001b[0m\u001b[0mkwargs\u001b[0m\u001b[1;33m)\u001b[0m\u001b[1;33m\u001b[0m\u001b[1;33m\u001b[0m\u001b[0m\n\u001b[0m\u001b[0;32m     66\u001b[0m         \u001b[1;32mexcept\u001b[0m \u001b[0mException\u001b[0m \u001b[1;32mas\u001b[0m \u001b[0me\u001b[0m\u001b[1;33m:\u001b[0m\u001b[1;33m\u001b[0m\u001b[1;33m\u001b[0m\u001b[0m\n\u001b[0;32m     67\u001b[0m             \u001b[0mfiltered_tb\u001b[0m \u001b[1;33m=\u001b[0m \u001b[0m_process_traceback_frames\u001b[0m\u001b[1;33m(\u001b[0m\u001b[0me\u001b[0m\u001b[1;33m.\u001b[0m\u001b[0m__traceback__\u001b[0m\u001b[1;33m)\u001b[0m\u001b[1;33m\u001b[0m\u001b[1;33m\u001b[0m\u001b[0m\n",
      "\u001b[1;32mE:\\anaconda3\\lib\\site-packages\\keras\\engine\\training.py\u001b[0m in \u001b[0;36mevaluate\u001b[1;34m(self, x, y, batch_size, verbose, sample_weight, steps, callbacks, max_queue_size, workers, use_multiprocessing, return_dict, **kwargs)\u001b[0m\n\u001b[0;32m   1999\u001b[0m                 \u001b[1;31m# Creates a `tf.data.Dataset` and handles batch and epoch\u001b[0m\u001b[1;33m\u001b[0m\u001b[1;33m\u001b[0m\u001b[0m\n\u001b[0;32m   2000\u001b[0m                 \u001b[1;31m# iteration.\u001b[0m\u001b[1;33m\u001b[0m\u001b[1;33m\u001b[0m\u001b[0m\n\u001b[1;32m-> 2001\u001b[1;33m                 data_handler = data_adapter.get_data_handler(\n\u001b[0m\u001b[0;32m   2002\u001b[0m                     \u001b[0mx\u001b[0m\u001b[1;33m=\u001b[0m\u001b[0mx\u001b[0m\u001b[1;33m,\u001b[0m\u001b[1;33m\u001b[0m\u001b[1;33m\u001b[0m\u001b[0m\n\u001b[0;32m   2003\u001b[0m                     \u001b[0my\u001b[0m\u001b[1;33m=\u001b[0m\u001b[0my\u001b[0m\u001b[1;33m,\u001b[0m\u001b[1;33m\u001b[0m\u001b[1;33m\u001b[0m\u001b[0m\n",
      "\u001b[1;32mE:\\anaconda3\\lib\\site-packages\\keras\\engine\\data_adapter.py\u001b[0m in \u001b[0;36mget_data_handler\u001b[1;34m(*args, **kwargs)\u001b[0m\n\u001b[0;32m   1577\u001b[0m     \u001b[1;32mif\u001b[0m \u001b[0mgetattr\u001b[0m\u001b[1;33m(\u001b[0m\u001b[0mkwargs\u001b[0m\u001b[1;33m[\u001b[0m\u001b[1;34m\"model\"\u001b[0m\u001b[1;33m]\u001b[0m\u001b[1;33m,\u001b[0m \u001b[1;34m\"_cluster_coordinator\"\u001b[0m\u001b[1;33m,\u001b[0m \u001b[1;32mNone\u001b[0m\u001b[1;33m)\u001b[0m\u001b[1;33m:\u001b[0m\u001b[1;33m\u001b[0m\u001b[1;33m\u001b[0m\u001b[0m\n\u001b[0;32m   1578\u001b[0m         \u001b[1;32mreturn\u001b[0m \u001b[0m_ClusterCoordinatorDataHandler\u001b[0m\u001b[1;33m(\u001b[0m\u001b[1;33m*\u001b[0m\u001b[0margs\u001b[0m\u001b[1;33m,\u001b[0m \u001b[1;33m**\u001b[0m\u001b[0mkwargs\u001b[0m\u001b[1;33m)\u001b[0m\u001b[1;33m\u001b[0m\u001b[1;33m\u001b[0m\u001b[0m\n\u001b[1;32m-> 1579\u001b[1;33m     \u001b[1;32mreturn\u001b[0m \u001b[0mDataHandler\u001b[0m\u001b[1;33m(\u001b[0m\u001b[1;33m*\u001b[0m\u001b[0margs\u001b[0m\u001b[1;33m,\u001b[0m \u001b[1;33m**\u001b[0m\u001b[0mkwargs\u001b[0m\u001b[1;33m)\u001b[0m\u001b[1;33m\u001b[0m\u001b[1;33m\u001b[0m\u001b[0m\n\u001b[0m\u001b[0;32m   1580\u001b[0m \u001b[1;33m\u001b[0m\u001b[0m\n\u001b[0;32m   1581\u001b[0m \u001b[1;33m\u001b[0m\u001b[0m\n",
      "\u001b[1;32mE:\\anaconda3\\lib\\site-packages\\keras\\engine\\data_adapter.py\u001b[0m in \u001b[0;36m__init__\u001b[1;34m(self, x, y, sample_weight, batch_size, steps_per_epoch, initial_epoch, epochs, shuffle, class_weight, max_queue_size, workers, use_multiprocessing, model, steps_per_execution, distribute)\u001b[0m\n\u001b[0;32m   1257\u001b[0m \u001b[1;33m\u001b[0m\u001b[0m\n\u001b[0;32m   1258\u001b[0m         \u001b[0madapter_cls\u001b[0m \u001b[1;33m=\u001b[0m \u001b[0mselect_data_adapter\u001b[0m\u001b[1;33m(\u001b[0m\u001b[0mx\u001b[0m\u001b[1;33m,\u001b[0m \u001b[0my\u001b[0m\u001b[1;33m)\u001b[0m\u001b[1;33m\u001b[0m\u001b[1;33m\u001b[0m\u001b[0m\n\u001b[1;32m-> 1259\u001b[1;33m         self._adapter = adapter_cls(\n\u001b[0m\u001b[0;32m   1260\u001b[0m             \u001b[0mx\u001b[0m\u001b[1;33m,\u001b[0m\u001b[1;33m\u001b[0m\u001b[1;33m\u001b[0m\u001b[0m\n\u001b[0;32m   1261\u001b[0m             \u001b[0my\u001b[0m\u001b[1;33m,\u001b[0m\u001b[1;33m\u001b[0m\u001b[1;33m\u001b[0m\u001b[0m\n",
      "\u001b[1;32mE:\\anaconda3\\lib\\site-packages\\keras\\engine\\data_adapter.py\u001b[0m in \u001b[0;36m__init__\u001b[1;34m(self, x, y, sample_weights, sample_weight_modes, batch_size, epochs, steps, shuffle, **kwargs)\u001b[0m\n\u001b[0;32m    243\u001b[0m     ):\n\u001b[0;32m    244\u001b[0m         \u001b[0msuper\u001b[0m\u001b[1;33m(\u001b[0m\u001b[1;33m)\u001b[0m\u001b[1;33m.\u001b[0m\u001b[0m__init__\u001b[0m\u001b[1;33m(\u001b[0m\u001b[0mx\u001b[0m\u001b[1;33m,\u001b[0m \u001b[0my\u001b[0m\u001b[1;33m,\u001b[0m \u001b[1;33m**\u001b[0m\u001b[0mkwargs\u001b[0m\u001b[1;33m)\u001b[0m\u001b[1;33m\u001b[0m\u001b[1;33m\u001b[0m\u001b[0m\n\u001b[1;32m--> 245\u001b[1;33m         \u001b[0mx\u001b[0m\u001b[1;33m,\u001b[0m \u001b[0my\u001b[0m\u001b[1;33m,\u001b[0m \u001b[0msample_weights\u001b[0m \u001b[1;33m=\u001b[0m \u001b[0m_process_tensorlike\u001b[0m\u001b[1;33m(\u001b[0m\u001b[1;33m(\u001b[0m\u001b[0mx\u001b[0m\u001b[1;33m,\u001b[0m \u001b[0my\u001b[0m\u001b[1;33m,\u001b[0m \u001b[0msample_weights\u001b[0m\u001b[1;33m)\u001b[0m\u001b[1;33m)\u001b[0m\u001b[1;33m\u001b[0m\u001b[1;33m\u001b[0m\u001b[0m\n\u001b[0m\u001b[0;32m    246\u001b[0m         sample_weight_modes = broadcast_sample_weight_modes(\n\u001b[0;32m    247\u001b[0m             \u001b[0msample_weights\u001b[0m\u001b[1;33m,\u001b[0m \u001b[0msample_weight_modes\u001b[0m\u001b[1;33m\u001b[0m\u001b[1;33m\u001b[0m\u001b[0m\n",
      "\u001b[1;32mE:\\anaconda3\\lib\\site-packages\\keras\\engine\\data_adapter.py\u001b[0m in \u001b[0;36m_process_tensorlike\u001b[1;34m(inputs)\u001b[0m\n\u001b[0;32m   1137\u001b[0m         \u001b[1;32mreturn\u001b[0m \u001b[0mx\u001b[0m\u001b[1;33m\u001b[0m\u001b[1;33m\u001b[0m\u001b[0m\n\u001b[0;32m   1138\u001b[0m \u001b[1;33m\u001b[0m\u001b[0m\n\u001b[1;32m-> 1139\u001b[1;33m     \u001b[0minputs\u001b[0m \u001b[1;33m=\u001b[0m \u001b[0mtf\u001b[0m\u001b[1;33m.\u001b[0m\u001b[0mnest\u001b[0m\u001b[1;33m.\u001b[0m\u001b[0mmap_structure\u001b[0m\u001b[1;33m(\u001b[0m\u001b[0m_convert_single_tensor\u001b[0m\u001b[1;33m,\u001b[0m \u001b[0minputs\u001b[0m\u001b[1;33m)\u001b[0m\u001b[1;33m\u001b[0m\u001b[1;33m\u001b[0m\u001b[0m\n\u001b[0m\u001b[0;32m   1140\u001b[0m     \u001b[1;32mreturn\u001b[0m \u001b[0mtf\u001b[0m\u001b[1;33m.\u001b[0m\u001b[0m__internal__\u001b[0m\u001b[1;33m.\u001b[0m\u001b[0mnest\u001b[0m\u001b[1;33m.\u001b[0m\u001b[0mlist_to_tuple\u001b[0m\u001b[1;33m(\u001b[0m\u001b[0minputs\u001b[0m\u001b[1;33m)\u001b[0m\u001b[1;33m\u001b[0m\u001b[1;33m\u001b[0m\u001b[0m\n\u001b[0;32m   1141\u001b[0m \u001b[1;33m\u001b[0m\u001b[0m\n",
      "\u001b[1;32mE:\\anaconda3\\lib\\site-packages\\tensorflow\\python\\util\\nest.py\u001b[0m in \u001b[0;36mmap_structure\u001b[1;34m(func, *structure, **kwargs)\u001b[0m\n\u001b[0;32m    915\u001b[0m \u001b[1;33m\u001b[0m\u001b[0m\n\u001b[0;32m    916\u001b[0m   return pack_sequence_as(\n\u001b[1;32m--> 917\u001b[1;33m       \u001b[0mstructure\u001b[0m\u001b[1;33m[\u001b[0m\u001b[1;36m0\u001b[0m\u001b[1;33m]\u001b[0m\u001b[1;33m,\u001b[0m \u001b[1;33m[\u001b[0m\u001b[0mfunc\u001b[0m\u001b[1;33m(\u001b[0m\u001b[1;33m*\u001b[0m\u001b[0mx\u001b[0m\u001b[1;33m)\u001b[0m \u001b[1;32mfor\u001b[0m \u001b[0mx\u001b[0m \u001b[1;32min\u001b[0m \u001b[0mentries\u001b[0m\u001b[1;33m]\u001b[0m\u001b[1;33m,\u001b[0m\u001b[1;33m\u001b[0m\u001b[1;33m\u001b[0m\u001b[0m\n\u001b[0m\u001b[0;32m    918\u001b[0m       expand_composites=expand_composites)\n\u001b[0;32m    919\u001b[0m \u001b[1;33m\u001b[0m\u001b[0m\n",
      "\u001b[1;32mE:\\anaconda3\\lib\\site-packages\\tensorflow\\python\\util\\nest.py\u001b[0m in \u001b[0;36m<listcomp>\u001b[1;34m(.0)\u001b[0m\n\u001b[0;32m    915\u001b[0m \u001b[1;33m\u001b[0m\u001b[0m\n\u001b[0;32m    916\u001b[0m   return pack_sequence_as(\n\u001b[1;32m--> 917\u001b[1;33m       \u001b[0mstructure\u001b[0m\u001b[1;33m[\u001b[0m\u001b[1;36m0\u001b[0m\u001b[1;33m]\u001b[0m\u001b[1;33m,\u001b[0m \u001b[1;33m[\u001b[0m\u001b[0mfunc\u001b[0m\u001b[1;33m(\u001b[0m\u001b[1;33m*\u001b[0m\u001b[0mx\u001b[0m\u001b[1;33m)\u001b[0m \u001b[1;32mfor\u001b[0m \u001b[0mx\u001b[0m \u001b[1;32min\u001b[0m \u001b[0mentries\u001b[0m\u001b[1;33m]\u001b[0m\u001b[1;33m,\u001b[0m\u001b[1;33m\u001b[0m\u001b[1;33m\u001b[0m\u001b[0m\n\u001b[0m\u001b[0;32m    918\u001b[0m       expand_composites=expand_composites)\n\u001b[0;32m    919\u001b[0m \u001b[1;33m\u001b[0m\u001b[0m\n",
      "\u001b[1;32mE:\\anaconda3\\lib\\site-packages\\keras\\engine\\data_adapter.py\u001b[0m in \u001b[0;36m_convert_single_tensor\u001b[1;34m(x)\u001b[0m\n\u001b[0;32m   1132\u001b[0m             \u001b[1;32mif\u001b[0m \u001b[0missubclass\u001b[0m\u001b[1;33m(\u001b[0m\u001b[0mx\u001b[0m\u001b[1;33m.\u001b[0m\u001b[0mdtype\u001b[0m\u001b[1;33m.\u001b[0m\u001b[0mtype\u001b[0m\u001b[1;33m,\u001b[0m \u001b[0mnp\u001b[0m\u001b[1;33m.\u001b[0m\u001b[0mfloating\u001b[0m\u001b[1;33m)\u001b[0m\u001b[1;33m:\u001b[0m\u001b[1;33m\u001b[0m\u001b[1;33m\u001b[0m\u001b[0m\n\u001b[0;32m   1133\u001b[0m                 \u001b[0mdtype\u001b[0m \u001b[1;33m=\u001b[0m \u001b[0mbackend\u001b[0m\u001b[1;33m.\u001b[0m\u001b[0mfloatx\u001b[0m\u001b[1;33m(\u001b[0m\u001b[1;33m)\u001b[0m\u001b[1;33m\u001b[0m\u001b[1;33m\u001b[0m\u001b[0m\n\u001b[1;32m-> 1134\u001b[1;33m             \u001b[1;32mreturn\u001b[0m \u001b[0mtf\u001b[0m\u001b[1;33m.\u001b[0m\u001b[0mconvert_to_tensor\u001b[0m\u001b[1;33m(\u001b[0m\u001b[0mx\u001b[0m\u001b[1;33m,\u001b[0m \u001b[0mdtype\u001b[0m\u001b[1;33m=\u001b[0m\u001b[0mdtype\u001b[0m\u001b[1;33m)\u001b[0m\u001b[1;33m\u001b[0m\u001b[1;33m\u001b[0m\u001b[0m\n\u001b[0m\u001b[0;32m   1135\u001b[0m         \u001b[1;32melif\u001b[0m \u001b[0m_is_scipy_sparse\u001b[0m\u001b[1;33m(\u001b[0m\u001b[0mx\u001b[0m\u001b[1;33m)\u001b[0m\u001b[1;33m:\u001b[0m\u001b[1;33m\u001b[0m\u001b[1;33m\u001b[0m\u001b[0m\n\u001b[0;32m   1136\u001b[0m             \u001b[1;32mreturn\u001b[0m \u001b[0m_scipy_sparse_to_sparse_tensor\u001b[0m\u001b[1;33m(\u001b[0m\u001b[0mx\u001b[0m\u001b[1;33m)\u001b[0m\u001b[1;33m\u001b[0m\u001b[1;33m\u001b[0m\u001b[0m\n",
      "\u001b[1;32mE:\\anaconda3\\lib\\site-packages\\tensorflow\\python\\util\\traceback_utils.py\u001b[0m in \u001b[0;36merror_handler\u001b[1;34m(*args, **kwargs)\u001b[0m\n\u001b[0;32m    148\u001b[0m     \u001b[0mfiltered_tb\u001b[0m \u001b[1;33m=\u001b[0m \u001b[1;32mNone\u001b[0m\u001b[1;33m\u001b[0m\u001b[1;33m\u001b[0m\u001b[0m\n\u001b[0;32m    149\u001b[0m     \u001b[1;32mtry\u001b[0m\u001b[1;33m:\u001b[0m\u001b[1;33m\u001b[0m\u001b[1;33m\u001b[0m\u001b[0m\n\u001b[1;32m--> 150\u001b[1;33m       \u001b[1;32mreturn\u001b[0m \u001b[0mfn\u001b[0m\u001b[1;33m(\u001b[0m\u001b[1;33m*\u001b[0m\u001b[0margs\u001b[0m\u001b[1;33m,\u001b[0m \u001b[1;33m**\u001b[0m\u001b[0mkwargs\u001b[0m\u001b[1;33m)\u001b[0m\u001b[1;33m\u001b[0m\u001b[1;33m\u001b[0m\u001b[0m\n\u001b[0m\u001b[0;32m    151\u001b[0m     \u001b[1;32mexcept\u001b[0m \u001b[0mException\u001b[0m \u001b[1;32mas\u001b[0m \u001b[0me\u001b[0m\u001b[1;33m:\u001b[0m\u001b[1;33m\u001b[0m\u001b[1;33m\u001b[0m\u001b[0m\n\u001b[0;32m    152\u001b[0m       \u001b[0mfiltered_tb\u001b[0m \u001b[1;33m=\u001b[0m \u001b[0m_process_traceback_frames\u001b[0m\u001b[1;33m(\u001b[0m\u001b[0me\u001b[0m\u001b[1;33m.\u001b[0m\u001b[0m__traceback__\u001b[0m\u001b[1;33m)\u001b[0m\u001b[1;33m\u001b[0m\u001b[1;33m\u001b[0m\u001b[0m\n",
      "\u001b[1;32mE:\\anaconda3\\lib\\site-packages\\tensorflow\\python\\util\\dispatch.py\u001b[0m in \u001b[0;36mop_dispatch_handler\u001b[1;34m(*args, **kwargs)\u001b[0m\n\u001b[0;32m   1174\u001b[0m       \u001b[1;31m# Fallback dispatch system (dispatch v1):\u001b[0m\u001b[1;33m\u001b[0m\u001b[1;33m\u001b[0m\u001b[0m\n\u001b[0;32m   1175\u001b[0m       \u001b[1;32mtry\u001b[0m\u001b[1;33m:\u001b[0m\u001b[1;33m\u001b[0m\u001b[1;33m\u001b[0m\u001b[0m\n\u001b[1;32m-> 1176\u001b[1;33m         \u001b[1;32mreturn\u001b[0m \u001b[0mdispatch_target\u001b[0m\u001b[1;33m(\u001b[0m\u001b[1;33m*\u001b[0m\u001b[0margs\u001b[0m\u001b[1;33m,\u001b[0m \u001b[1;33m**\u001b[0m\u001b[0mkwargs\u001b[0m\u001b[1;33m)\u001b[0m\u001b[1;33m\u001b[0m\u001b[1;33m\u001b[0m\u001b[0m\n\u001b[0m\u001b[0;32m   1177\u001b[0m       \u001b[1;32mexcept\u001b[0m \u001b[1;33m(\u001b[0m\u001b[0mTypeError\u001b[0m\u001b[1;33m,\u001b[0m \u001b[0mValueError\u001b[0m\u001b[1;33m)\u001b[0m\u001b[1;33m:\u001b[0m\u001b[1;33m\u001b[0m\u001b[1;33m\u001b[0m\u001b[0m\n\u001b[0;32m   1178\u001b[0m         \u001b[1;31m# Note: convert_to_eager_tensor currently raises a ValueError, not a\u001b[0m\u001b[1;33m\u001b[0m\u001b[1;33m\u001b[0m\u001b[0m\n",
      "\u001b[1;32mE:\\anaconda3\\lib\\site-packages\\tensorflow\\python\\framework\\ops.py\u001b[0m in \u001b[0;36mconvert_to_tensor_v2_with_dispatch\u001b[1;34m(value, dtype, dtype_hint, name)\u001b[0m\n\u001b[0;32m   1488\u001b[0m     \u001b[0mValueError\u001b[0m\u001b[1;33m:\u001b[0m \u001b[0mIf\u001b[0m \u001b[0mthe\u001b[0m\u001b[0;31m \u001b[0m\u001b[0;31m`\u001b[0m\u001b[0mvalue\u001b[0m\u001b[0;31m`\u001b[0m \u001b[1;32mis\u001b[0m \u001b[0ma\u001b[0m \u001b[0mtensor\u001b[0m \u001b[1;32mnot\u001b[0m \u001b[0mof\u001b[0m \u001b[0mgiven\u001b[0m\u001b[0;31m \u001b[0m\u001b[0;31m`\u001b[0m\u001b[0mdtype\u001b[0m\u001b[0;31m`\u001b[0m \u001b[1;32min\u001b[0m \u001b[0mgraph\u001b[0m \u001b[0mmode\u001b[0m\u001b[1;33m.\u001b[0m\u001b[1;33m\u001b[0m\u001b[1;33m\u001b[0m\u001b[0m\n\u001b[0;32m   1489\u001b[0m   \"\"\"\n\u001b[1;32m-> 1490\u001b[1;33m   return convert_to_tensor_v2(\n\u001b[0m\u001b[0;32m   1491\u001b[0m       value, dtype=dtype, dtype_hint=dtype_hint, name=name)\n\u001b[0;32m   1492\u001b[0m \u001b[1;33m\u001b[0m\u001b[0m\n",
      "\u001b[1;32mE:\\anaconda3\\lib\\site-packages\\tensorflow\\python\\framework\\ops.py\u001b[0m in \u001b[0;36mconvert_to_tensor_v2\u001b[1;34m(value, dtype, dtype_hint, name)\u001b[0m\n\u001b[0;32m   1494\u001b[0m \u001b[1;32mdef\u001b[0m \u001b[0mconvert_to_tensor_v2\u001b[0m\u001b[1;33m(\u001b[0m\u001b[0mvalue\u001b[0m\u001b[1;33m,\u001b[0m \u001b[0mdtype\u001b[0m\u001b[1;33m=\u001b[0m\u001b[1;32mNone\u001b[0m\u001b[1;33m,\u001b[0m \u001b[0mdtype_hint\u001b[0m\u001b[1;33m=\u001b[0m\u001b[1;32mNone\u001b[0m\u001b[1;33m,\u001b[0m \u001b[0mname\u001b[0m\u001b[1;33m=\u001b[0m\u001b[1;32mNone\u001b[0m\u001b[1;33m)\u001b[0m\u001b[1;33m:\u001b[0m\u001b[1;33m\u001b[0m\u001b[1;33m\u001b[0m\u001b[0m\n\u001b[0;32m   1495\u001b[0m   \u001b[1;34m\"\"\"Converts the given `value` to a `Tensor`.\"\"\"\u001b[0m\u001b[1;33m\u001b[0m\u001b[1;33m\u001b[0m\u001b[0m\n\u001b[1;32m-> 1496\u001b[1;33m   return convert_to_tensor(\n\u001b[0m\u001b[0;32m   1497\u001b[0m       \u001b[0mvalue\u001b[0m\u001b[1;33m=\u001b[0m\u001b[0mvalue\u001b[0m\u001b[1;33m,\u001b[0m\u001b[1;33m\u001b[0m\u001b[1;33m\u001b[0m\u001b[0m\n\u001b[0;32m   1498\u001b[0m       \u001b[0mdtype\u001b[0m\u001b[1;33m=\u001b[0m\u001b[0mdtype\u001b[0m\u001b[1;33m,\u001b[0m\u001b[1;33m\u001b[0m\u001b[1;33m\u001b[0m\u001b[0m\n",
      "\u001b[1;32mE:\\anaconda3\\lib\\site-packages\\tensorflow\\python\\profiler\\trace.py\u001b[0m in \u001b[0;36mwrapped\u001b[1;34m(*args, **kwargs)\u001b[0m\n\u001b[0;32m    181\u001b[0m         \u001b[1;32mwith\u001b[0m \u001b[0mTrace\u001b[0m\u001b[1;33m(\u001b[0m\u001b[0mtrace_name\u001b[0m\u001b[1;33m,\u001b[0m \u001b[1;33m**\u001b[0m\u001b[0mtrace_kwargs\u001b[0m\u001b[1;33m)\u001b[0m\u001b[1;33m:\u001b[0m\u001b[1;33m\u001b[0m\u001b[1;33m\u001b[0m\u001b[0m\n\u001b[0;32m    182\u001b[0m           \u001b[1;32mreturn\u001b[0m \u001b[0mfunc\u001b[0m\u001b[1;33m(\u001b[0m\u001b[1;33m*\u001b[0m\u001b[0margs\u001b[0m\u001b[1;33m,\u001b[0m \u001b[1;33m**\u001b[0m\u001b[0mkwargs\u001b[0m\u001b[1;33m)\u001b[0m\u001b[1;33m\u001b[0m\u001b[1;33m\u001b[0m\u001b[0m\n\u001b[1;32m--> 183\u001b[1;33m       \u001b[1;32mreturn\u001b[0m \u001b[0mfunc\u001b[0m\u001b[1;33m(\u001b[0m\u001b[1;33m*\u001b[0m\u001b[0margs\u001b[0m\u001b[1;33m,\u001b[0m \u001b[1;33m**\u001b[0m\u001b[0mkwargs\u001b[0m\u001b[1;33m)\u001b[0m\u001b[1;33m\u001b[0m\u001b[1;33m\u001b[0m\u001b[0m\n\u001b[0m\u001b[0;32m    184\u001b[0m \u001b[1;33m\u001b[0m\u001b[0m\n\u001b[0;32m    185\u001b[0m     \u001b[1;32mreturn\u001b[0m \u001b[0mwrapped\u001b[0m\u001b[1;33m\u001b[0m\u001b[1;33m\u001b[0m\u001b[0m\n",
      "\u001b[1;32mE:\\anaconda3\\lib\\site-packages\\tensorflow\\python\\framework\\ops.py\u001b[0m in \u001b[0;36mconvert_to_tensor\u001b[1;34m(value, dtype, name, as_ref, preferred_dtype, dtype_hint, ctx, accepted_result_types)\u001b[0m\n\u001b[0;32m   1634\u001b[0m \u001b[1;33m\u001b[0m\u001b[0m\n\u001b[0;32m   1635\u001b[0m     \u001b[1;32mif\u001b[0m \u001b[0mret\u001b[0m \u001b[1;32mis\u001b[0m \u001b[1;32mNone\u001b[0m\u001b[1;33m:\u001b[0m\u001b[1;33m\u001b[0m\u001b[1;33m\u001b[0m\u001b[0m\n\u001b[1;32m-> 1636\u001b[1;33m       \u001b[0mret\u001b[0m \u001b[1;33m=\u001b[0m \u001b[0mconversion_func\u001b[0m\u001b[1;33m(\u001b[0m\u001b[0mvalue\u001b[0m\u001b[1;33m,\u001b[0m \u001b[0mdtype\u001b[0m\u001b[1;33m=\u001b[0m\u001b[0mdtype\u001b[0m\u001b[1;33m,\u001b[0m \u001b[0mname\u001b[0m\u001b[1;33m=\u001b[0m\u001b[0mname\u001b[0m\u001b[1;33m,\u001b[0m \u001b[0mas_ref\u001b[0m\u001b[1;33m=\u001b[0m\u001b[0mas_ref\u001b[0m\u001b[1;33m)\u001b[0m\u001b[1;33m\u001b[0m\u001b[1;33m\u001b[0m\u001b[0m\n\u001b[0m\u001b[0;32m   1637\u001b[0m \u001b[1;33m\u001b[0m\u001b[0m\n\u001b[0;32m   1638\u001b[0m     \u001b[1;32mif\u001b[0m \u001b[0mret\u001b[0m \u001b[1;32mis\u001b[0m \u001b[0mNotImplemented\u001b[0m\u001b[1;33m:\u001b[0m\u001b[1;33m\u001b[0m\u001b[1;33m\u001b[0m\u001b[0m\n",
      "\u001b[1;32mE:\\anaconda3\\lib\\site-packages\\tensorflow\\python\\framework\\tensor_conversion_registry.py\u001b[0m in \u001b[0;36m_default_conversion_function\u001b[1;34m(***failed resolving arguments***)\u001b[0m\n\u001b[0;32m     46\u001b[0m \u001b[1;32mdef\u001b[0m \u001b[0m_default_conversion_function\u001b[0m\u001b[1;33m(\u001b[0m\u001b[0mvalue\u001b[0m\u001b[1;33m,\u001b[0m \u001b[0mdtype\u001b[0m\u001b[1;33m,\u001b[0m \u001b[0mname\u001b[0m\u001b[1;33m,\u001b[0m \u001b[0mas_ref\u001b[0m\u001b[1;33m)\u001b[0m\u001b[1;33m:\u001b[0m\u001b[1;33m\u001b[0m\u001b[1;33m\u001b[0m\u001b[0m\n\u001b[0;32m     47\u001b[0m   \u001b[1;32mdel\u001b[0m \u001b[0mas_ref\u001b[0m  \u001b[1;31m# Unused.\u001b[0m\u001b[1;33m\u001b[0m\u001b[1;33m\u001b[0m\u001b[0m\n\u001b[1;32m---> 48\u001b[1;33m   \u001b[1;32mreturn\u001b[0m \u001b[0mconstant_op\u001b[0m\u001b[1;33m.\u001b[0m\u001b[0mconstant\u001b[0m\u001b[1;33m(\u001b[0m\u001b[0mvalue\u001b[0m\u001b[1;33m,\u001b[0m \u001b[0mdtype\u001b[0m\u001b[1;33m,\u001b[0m \u001b[0mname\u001b[0m\u001b[1;33m=\u001b[0m\u001b[0mname\u001b[0m\u001b[1;33m)\u001b[0m\u001b[1;33m\u001b[0m\u001b[1;33m\u001b[0m\u001b[0m\n\u001b[0m\u001b[0;32m     49\u001b[0m \u001b[1;33m\u001b[0m\u001b[0m\n\u001b[0;32m     50\u001b[0m \u001b[1;33m\u001b[0m\u001b[0m\n",
      "\u001b[1;32mE:\\anaconda3\\lib\\site-packages\\tensorflow\\python\\framework\\constant_op.py\u001b[0m in \u001b[0;36mconstant\u001b[1;34m(value, dtype, shape, name)\u001b[0m\n\u001b[0;32m    265\u001b[0m     \u001b[0mValueError\u001b[0m\u001b[1;33m:\u001b[0m \u001b[1;32mif\u001b[0m \u001b[0mcalled\u001b[0m \u001b[0mon\u001b[0m \u001b[0ma\u001b[0m \u001b[0msymbolic\u001b[0m \u001b[0mtensor\u001b[0m\u001b[1;33m.\u001b[0m\u001b[1;33m\u001b[0m\u001b[1;33m\u001b[0m\u001b[0m\n\u001b[0;32m    266\u001b[0m   \"\"\"\n\u001b[1;32m--> 267\u001b[1;33m   return _constant_impl(value, dtype, shape, name, verify_shape=False,\n\u001b[0m\u001b[0;32m    268\u001b[0m                         allow_broadcast=True)\n\u001b[0;32m    269\u001b[0m \u001b[1;33m\u001b[0m\u001b[0m\n",
      "\u001b[1;32mE:\\anaconda3\\lib\\site-packages\\tensorflow\\python\\framework\\constant_op.py\u001b[0m in \u001b[0;36m_constant_impl\u001b[1;34m(value, dtype, shape, name, verify_shape, allow_broadcast)\u001b[0m\n\u001b[0;32m    277\u001b[0m       \u001b[1;32mwith\u001b[0m \u001b[0mtrace\u001b[0m\u001b[1;33m.\u001b[0m\u001b[0mTrace\u001b[0m\u001b[1;33m(\u001b[0m\u001b[1;34m\"tf.constant\"\u001b[0m\u001b[1;33m)\u001b[0m\u001b[1;33m:\u001b[0m\u001b[1;33m\u001b[0m\u001b[1;33m\u001b[0m\u001b[0m\n\u001b[0;32m    278\u001b[0m         \u001b[1;32mreturn\u001b[0m \u001b[0m_constant_eager_impl\u001b[0m\u001b[1;33m(\u001b[0m\u001b[0mctx\u001b[0m\u001b[1;33m,\u001b[0m \u001b[0mvalue\u001b[0m\u001b[1;33m,\u001b[0m \u001b[0mdtype\u001b[0m\u001b[1;33m,\u001b[0m \u001b[0mshape\u001b[0m\u001b[1;33m,\u001b[0m \u001b[0mverify_shape\u001b[0m\u001b[1;33m)\u001b[0m\u001b[1;33m\u001b[0m\u001b[1;33m\u001b[0m\u001b[0m\n\u001b[1;32m--> 279\u001b[1;33m     \u001b[1;32mreturn\u001b[0m \u001b[0m_constant_eager_impl\u001b[0m\u001b[1;33m(\u001b[0m\u001b[0mctx\u001b[0m\u001b[1;33m,\u001b[0m \u001b[0mvalue\u001b[0m\u001b[1;33m,\u001b[0m \u001b[0mdtype\u001b[0m\u001b[1;33m,\u001b[0m \u001b[0mshape\u001b[0m\u001b[1;33m,\u001b[0m \u001b[0mverify_shape\u001b[0m\u001b[1;33m)\u001b[0m\u001b[1;33m\u001b[0m\u001b[1;33m\u001b[0m\u001b[0m\n\u001b[0m\u001b[0;32m    280\u001b[0m \u001b[1;33m\u001b[0m\u001b[0m\n\u001b[0;32m    281\u001b[0m   \u001b[0mg\u001b[0m \u001b[1;33m=\u001b[0m \u001b[0mops\u001b[0m\u001b[1;33m.\u001b[0m\u001b[0mget_default_graph\u001b[0m\u001b[1;33m(\u001b[0m\u001b[1;33m)\u001b[0m\u001b[1;33m\u001b[0m\u001b[1;33m\u001b[0m\u001b[0m\n",
      "\u001b[1;32mE:\\anaconda3\\lib\\site-packages\\tensorflow\\python\\framework\\constant_op.py\u001b[0m in \u001b[0;36m_constant_eager_impl\u001b[1;34m(ctx, value, dtype, shape, verify_shape)\u001b[0m\n\u001b[0;32m    302\u001b[0m \u001b[1;32mdef\u001b[0m \u001b[0m_constant_eager_impl\u001b[0m\u001b[1;33m(\u001b[0m\u001b[0mctx\u001b[0m\u001b[1;33m,\u001b[0m \u001b[0mvalue\u001b[0m\u001b[1;33m,\u001b[0m \u001b[0mdtype\u001b[0m\u001b[1;33m,\u001b[0m \u001b[0mshape\u001b[0m\u001b[1;33m,\u001b[0m \u001b[0mverify_shape\u001b[0m\u001b[1;33m)\u001b[0m\u001b[1;33m:\u001b[0m\u001b[1;33m\u001b[0m\u001b[1;33m\u001b[0m\u001b[0m\n\u001b[0;32m    303\u001b[0m   \u001b[1;34m\"\"\"Creates a constant on the current device.\"\"\"\u001b[0m\u001b[1;33m\u001b[0m\u001b[1;33m\u001b[0m\u001b[0m\n\u001b[1;32m--> 304\u001b[1;33m   \u001b[0mt\u001b[0m \u001b[1;33m=\u001b[0m \u001b[0mconvert_to_eager_tensor\u001b[0m\u001b[1;33m(\u001b[0m\u001b[0mvalue\u001b[0m\u001b[1;33m,\u001b[0m \u001b[0mctx\u001b[0m\u001b[1;33m,\u001b[0m \u001b[0mdtype\u001b[0m\u001b[1;33m)\u001b[0m\u001b[1;33m\u001b[0m\u001b[1;33m\u001b[0m\u001b[0m\n\u001b[0m\u001b[0;32m    305\u001b[0m   \u001b[1;32mif\u001b[0m \u001b[0mshape\u001b[0m \u001b[1;32mis\u001b[0m \u001b[1;32mNone\u001b[0m\u001b[1;33m:\u001b[0m\u001b[1;33m\u001b[0m\u001b[1;33m\u001b[0m\u001b[0m\n\u001b[0;32m    306\u001b[0m     \u001b[1;32mreturn\u001b[0m \u001b[0mt\u001b[0m\u001b[1;33m\u001b[0m\u001b[1;33m\u001b[0m\u001b[0m\n",
      "\u001b[1;32mE:\\anaconda3\\lib\\site-packages\\tensorflow\\python\\framework\\constant_op.py\u001b[0m in \u001b[0;36mconvert_to_eager_tensor\u001b[1;34m(value, ctx, dtype)\u001b[0m\n\u001b[0;32m    100\u001b[0m       \u001b[0mdtype\u001b[0m \u001b[1;33m=\u001b[0m \u001b[0mdtypes\u001b[0m\u001b[1;33m.\u001b[0m\u001b[0mas_dtype\u001b[0m\u001b[1;33m(\u001b[0m\u001b[0mdtype\u001b[0m\u001b[1;33m)\u001b[0m\u001b[1;33m.\u001b[0m\u001b[0mas_datatype_enum\u001b[0m\u001b[1;33m\u001b[0m\u001b[1;33m\u001b[0m\u001b[0m\n\u001b[0;32m    101\u001b[0m   \u001b[0mctx\u001b[0m\u001b[1;33m.\u001b[0m\u001b[0mensure_initialized\u001b[0m\u001b[1;33m(\u001b[0m\u001b[1;33m)\u001b[0m\u001b[1;33m\u001b[0m\u001b[1;33m\u001b[0m\u001b[0m\n\u001b[1;32m--> 102\u001b[1;33m   \u001b[1;32mreturn\u001b[0m \u001b[0mops\u001b[0m\u001b[1;33m.\u001b[0m\u001b[0mEagerTensor\u001b[0m\u001b[1;33m(\u001b[0m\u001b[0mvalue\u001b[0m\u001b[1;33m,\u001b[0m \u001b[0mctx\u001b[0m\u001b[1;33m.\u001b[0m\u001b[0mdevice_name\u001b[0m\u001b[1;33m,\u001b[0m \u001b[0mdtype\u001b[0m\u001b[1;33m)\u001b[0m\u001b[1;33m\u001b[0m\u001b[1;33m\u001b[0m\u001b[0m\n\u001b[0m\u001b[0;32m    103\u001b[0m \u001b[1;33m\u001b[0m\u001b[0m\n\u001b[0;32m    104\u001b[0m \u001b[1;33m\u001b[0m\u001b[0m\n",
      "\u001b[1;31mKeyboardInterrupt\u001b[0m: "
     ]
    }
   ],
   "source": [
    "for i in range(100):\n",
    "    results = final_supervised.evaluate(dataset_without_label, dataset_labels[:, :5], batch_size=128)[1]\n",
    "    if (results >= 0.99):\n",
    "        break\n",
    "    final_supervised.fit(dataset_without_label, dataset_labels[:, :5],\n",
    "            epochs=1, batch_size=128,\n",
    "            shuffle=False, validation_data=None,\n",
    "            callbacks=[TensorBoard(log_dir='/tmp/final_supervised')])"
   ]
  },
  {
   "cell_type": "code",
   "execution_count": null,
   "id": "5993b5d4-b6dc-4789-bca4-3eb350904c85",
   "metadata": {},
   "outputs": [],
   "source": [
    "final_supervised.save(\"./final_supervised_\")"
   ]
  },
  {
   "cell_type": "markdown",
   "id": "fedfa4cf-e66d-42f0-b3ad-e41ae7728aad",
   "metadata": {},
   "source": [
    "# Evaluation"
   ]
  },
  {
   "cell_type": "code",
   "execution_count": null,
   "id": "7bc39114-ad57-4b2d-b8ec-88df54b534f2",
   "metadata": {},
   "outputs": [],
   "source": [
    "test_dataset_without_labels = test_dataset[:, :117]\n",
    "test_dataset_labels = test_dataset[:, 117:]\n",
    "print(\"Evaluate on test data\")\n",
    "results = final_supervised.evaluate(test_dataset_without_labels, test_dataset_labels[:, :5], batch_size=12)\n",
    "print(\"test loss, test acc:\", results)"
   ]
  },
  {
   "cell_type": "code",
   "execution_count": null,
   "id": "741ba3c6-bfa6-4a3a-bc10-564e9fd1e967",
   "metadata": {},
   "outputs": [],
   "source": [
    "print(\"Evaluate on train data\")\n",
    "results = final_supervised.evaluate(dataset_without_label, dataset_labels[:, :5], batch_size=128)\n",
    "print(results)"
   ]
  },
  {
   "cell_type": "markdown",
   "id": "fff94709-1fbc-417d-a6da-bc2f32d84877",
   "metadata": {},
   "source": [
    "# Confusion Matrix"
   ]
  },
  {
   "cell_type": "code",
   "execution_count": null,
   "id": "465748d1-0964-4b7d-b71f-8dd18f81a1e0",
   "metadata": {},
   "outputs": [],
   "source": [
    "y_hat_tr = final_supervised(dataset_without_label)\n",
    "y_hat_tr_idx = np.array(y_hat_tr).argmax(axis=1)\n",
    "y_tr_idx = dataset_labels.argmax(axis=1)"
   ]
  },
  {
   "cell_type": "code",
   "execution_count": 33,
   "id": "1cccaeef-f0d8-465d-a2d6-769465776481",
   "metadata": {},
   "outputs": [
    {
     "name": "stdout",
     "output_type": "stream",
     "text": [
      "343945\n"
     ]
    },
    {
     "name": "stderr",
     "output_type": "stream",
     "text": [
      "100%|█████████████████████████████████████████████████████████████████████████████| 1375/1375 [00:04<00:00, 303.95it/s]\n"
     ]
    }
   ],
   "source": [
    "conf = np.zeros((10, 10), dtype=np.int32)\n",
    "print(y_tr_idx.shape[0])\n",
    "for i in tqdm(range(y_tr_idx.shape[0] // 250)):\n",
    "    conf[y_tr_idx, y_hat_tr_idx] += 1"
   ]
  },
  {
   "cell_type": "code",
   "execution_count": 33,
   "id": "d9aaa00e-dedc-4958-bfe3-4d1f10da5163",
   "metadata": {
    "tags": []
   },
   "outputs": [
    {
     "data": {
      "text/plain": [
       "<Figure size 1000x1000 with 0 Axes>"
      ]
     },
     "metadata": {},
     "output_type": "display_data"
    },
    {
     "data": {
      "image/png": "[encoded data removed]",
      "text/plain": [
       "<Figure size 480x480 with 1 Axes>"
      ]
     },
     "metadata": {},
     "output_type": "display_data"
    }
   ],
   "source": [
    "import matplotlib.pyplot as plt\n",
    "plt.figure(figsize=(10, 10))\n",
    "plt.matshow(conf)\n",
    "plt.show()"
   ]
  },
  {
   "cell_type": "code",
   "execution_count": null,
   "id": "31f01d08-69de-46e4-a8c6-919dbbd39fef",
   "metadata": {},
   "outputs": [],
   "source": []
  },
  {
   "cell_type": "code",
   "execution_count": null,
   "id": "d97a8813-1447-450c-b190-5d85a6a42da7",
   "metadata": {},
   "outputs": [],
   "source": []
  }
 ],
 "metadata": {
  "kernelspec": {
   "display_name": "Python 3 (ipykernel)",
   "language": "python",
   "name": "python3"
  },
  "language_info": {
   "codemirror_mode": {
    "name": "ipython",
    "version": 3
   },
   "file_extension": ".py",
   "mimetype": "text/x-python",
   "name": "python",
   "nbconvert_exporter": "python",
   "pygments_lexer": "ipython3",
   "version": "3.9.13"
  }
 },
 "nbformat": 4,
 "nbformat_minor": 5
}
