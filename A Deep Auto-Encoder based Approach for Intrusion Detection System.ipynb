{
 "cells": [
  {
   "cell_type": "code",
   "execution_count": 12,
   "id": "f078650e-eda7-429c-a41d-833d75982fb7",
   "metadata": {},
   "outputs": [],
   "source": [
    "import numpy as np\n",
    "import os\n",
    "import PIL\n",
    "import PIL.Image\n",
    "import tensorflow as tf\n",
    "import tensorflow_datasets as tfds\n",
    "from tensorflow import keras\n",
    "from tensorflow.keras import layers\n",
    "from keras.callbacks import TensorBoard"
   ]
  },
  {
   "cell_type": "code",
   "execution_count": 13,
   "id": "cb6c1f90-2dc0-476d-8e49-8ccc43e1ef0c",
   "metadata": {},
   "outputs": [],
   "source": [
    "# tfds.list_builders()"
   ]
  },
  {
   "cell_type": "code",
   "execution_count": 14,
   "id": "2d36e70a-bd99-4e55-bba7-06e7a0277d35",
   "metadata": {},
   "outputs": [],
   "source": [
    "(ds_train, ds_test), ds_info = tfds.load(\n",
    "    'kddcup99',\n",
    "    split=['train', 'test'],\n",
    "    shuffle_files=True,\n",
    "    as_supervised=False,\n",
    "    with_info=True,\n",
    ")"
   ]
  },
  {
   "cell_type": "markdown",
   "id": "af9354c4-286b-40a6-895e-92beb9e34be8",
   "metadata": {},
   "source": [
    "Preprocess"
   ]
  },
  {
   "cell_type": "code",
   "execution_count": 15,
   "id": "55194436-1777-4807-a060-bb560d8e564b",
   "metadata": {},
   "outputs": [
    {
     "data": {
      "text/plain": [
       "tfds.core.DatasetInfo(\n",
       "    name='kddcup99',\n",
       "    full_name='kddcup99/1.0.1',\n",
       "    description=\"\"\"\n",
       "    This is the data set used for The Third International Knowledge Discovery and\n",
       "    Data Mining Tools Competition, which was held in conjunction with KDD-99 The\n",
       "    Fifth International Conference on Knowledge Discovery and Data Mining. The\n",
       "    competition task was to build a network intrusion detector, a predictive model\n",
       "    capable of distinguishing between 'bad' connections, called intrusions or\n",
       "    attacks, and 'good' normal connections. This database contains a standard set of\n",
       "    data to be audited, which includes a wide variety of intrusions simulated in a\n",
       "    military network environment.\n",
       "    \"\"\",\n",
       "    homepage='https://kdd.ics.uci.edu/databases/kddcup99/kddcup99.html',\n",
       "    data_path='C:\\\\Users\\\\EhsanQA\\\\tensorflow_datasets\\\\kddcup99\\\\1.0.1',\n",
       "    file_format=tfrecord,\n",
       "    download_size=18.62 MiB,\n",
       "    dataset_size=5.25 GiB,\n",
       "    features=FeaturesDict({\n",
       "        'count': int32,\n",
       "        'diff_srv_rate': float32,\n",
       "        'dst_bytes': int32,\n",
       "        'dst_host_count': int32,\n",
       "        'dst_host_diff_srv_rate': float32,\n",
       "        'dst_host_rerror_rate': float32,\n",
       "        'dst_host_same_src_port_rate': float32,\n",
       "        'dst_host_same_srv_rate': float32,\n",
       "        'dst_host_serror_rate': float32,\n",
       "        'dst_host_srv_count': int32,\n",
       "        'dst_host_srv_diff_host_rate': float32,\n",
       "        'dst_host_srv_rerror_rate': float32,\n",
       "        'dst_host_srv_serror_rate': float32,\n",
       "        'duration': int32,\n",
       "        'flag': ClassLabel(shape=(), dtype=int64, num_classes=11),\n",
       "        'hot': int32,\n",
       "        'is_guest_login': bool,\n",
       "        'is_hot_login': bool,\n",
       "        'label': ClassLabel(shape=(), dtype=int64, num_classes=40),\n",
       "        'land': bool,\n",
       "        'logged_in': bool,\n",
       "        'num_access_files': int32,\n",
       "        'num_compromised': int32,\n",
       "        'num_failed_logins': int32,\n",
       "        'num_file_creations': int32,\n",
       "        'num_outbound_cmds': int32,\n",
       "        'num_root': int32,\n",
       "        'num_shells': int32,\n",
       "        'protocol_type': ClassLabel(shape=(), dtype=int64, num_classes=3),\n",
       "        'rerror_rate': float32,\n",
       "        'root_shell': bool,\n",
       "        'same_srv_rate': float32,\n",
       "        'serror_rate': float32,\n",
       "        'service': ClassLabel(shape=(), dtype=int64, num_classes=71),\n",
       "        'src_bytes': int32,\n",
       "        'srv_count': int32,\n",
       "        'srv_diff_host_rate': float32,\n",
       "        'srv_rerror_rate': float32,\n",
       "        'srv_serror_rate': float32,\n",
       "        'su_attempted': int32,\n",
       "        'urgent': int32,\n",
       "        'wrong_fragment': int32,\n",
       "    }),\n",
       "    supervised_keys=None,\n",
       "    disable_shuffling=False,\n",
       "    splits={\n",
       "        'test': <SplitInfo num_examples=311029, num_shards=4>,\n",
       "        'train': <SplitInfo num_examples=4898431, num_shards=64>,\n",
       "    },\n",
       "    citation=\"\"\"@misc{Dua:2019 ,\n",
       "      author = \"Dua, Dheeru and Graff, Casey\",\n",
       "      year = 2017,\n",
       "      title = \"{UCI} Machine Learning Repository\",\n",
       "      url = \"http://archive.ics.uci.edu/ml\",\n",
       "      institution = \"University of California, Irvine, School of Information and\n",
       "    Computer Sciences\"\n",
       "    }\"\"\",\n",
       ")"
      ]
     },
     "execution_count": 15,
     "metadata": {},
     "output_type": "execute_result"
    }
   ],
   "source": [
    "ds_info"
   ]
  },
  {
   "cell_type": "code",
   "execution_count": 16,
   "id": "64a3d7c7-35b3-4fb2-a687-1a081400176d",
   "metadata": {},
   "outputs": [],
   "source": [
    "mins = {'count': 10000,\n",
    "        'diff_srv_rate': 10000,\n",
    "        'dst_bytes': 10000,\n",
    "        'dst_host_count': 10000,\n",
    "        'dst_host_diff_srv_rate': 10000,\n",
    "        'dst_host_rerror_rate': 10000,\n",
    "        'dst_host_same_src_port_rate': 10000,\n",
    "        'dst_host_same_srv_rate': 10000,\n",
    "        'dst_host_serror_rate': 10000,\n",
    "        'dst_host_srv_count': 10000,\n",
    "        'dst_host_srv_diff_host_rate': 10000,\n",
    "        'dst_host_srv_rerror_rate': 10000,\n",
    "        'dst_host_srv_serror_rate': 10000,\n",
    "        'duration': 10000,\n",
    "        'hot': 10000,\n",
    "        'is_guest_login': 10000,\n",
    "        'is_hot_login': 10000,\n",
    "        'land': 10000,\n",
    "        'logged_in': 10000,\n",
    "        'num_access_files': 10000,\n",
    "        'num_compromised': 10000,\n",
    "        'num_failed_logins': 10000,\n",
    "        'num_file_creations': 10000,\n",
    "        'num_outbound_cmds': 10000,\n",
    "        'num_root': 10000,\n",
    "        'num_shells': 10000,\n",
    "        'rerror_rate': 10000,\n",
    "        'root_shell': 10000,\n",
    "        'same_srv_rate': 10000,\n",
    "        'serror_rate': 10000,\n",
    "        'src_bytes': 10000,\n",
    "        'srv_count': 10000,\n",
    "        'srv_diff_host_rate': 10000,\n",
    "        'srv_rerror_rate': 10000,\n",
    "        'srv_serror_rate': 10000,\n",
    "        'su_attempted': 10000,\n",
    "        'urgent': 10000,\n",
    "        'wrong_fragment': 10000}\n",
    "maxs = {'count': -10000,\n",
    "        'diff_srv_rate': -10000,\n",
    "        'dst_bytes': -10000,\n",
    "        'dst_host_count': -10000,\n",
    "        'dst_host_diff_srv_rate': -10000,\n",
    "        'dst_host_rerror_rate': -10000,\n",
    "        'dst_host_same_src_port_rate': -10000,\n",
    "        'dst_host_same_srv_rate': -10000,\n",
    "        'dst_host_serror_rate': -10000,\n",
    "        'dst_host_srv_count': -10000,\n",
    "        'dst_host_srv_diff_host_rate': -10000,\n",
    "        'dst_host_srv_rerror_rate': -10000,\n",
    "        'dst_host_srv_serror_rate': -10000,\n",
    "        'duration': -10000,\n",
    "        'hot': -10000,\n",
    "        'is_guest_login': -10000,\n",
    "        'is_hot_login': -10000,\n",
    "        'land': -10000,\n",
    "        'logged_in': -10000,\n",
    "        'num_access_files': -10000,\n",
    "        'num_compromised': -10000,\n",
    "        'num_failed_logins': -10000,\n",
    "        'num_file_creations': -10000,\n",
    "        'num_outbound_cmds': -10000,\n",
    "        'num_root': -10000,\n",
    "        'num_shells': -10000,\n",
    "        'rerror_rate': -10000,\n",
    "        'root_shell': -10000,\n",
    "        'same_srv_rate': -10000,\n",
    "        'serror_rate': -10000,\n",
    "        'src_bytes': -10000,\n",
    "        'srv_count': -10000,\n",
    "        'srv_diff_host_rate': -10000,\n",
    "        'srv_rerror_rate': -10000,\n",
    "        'srv_serror_rate': -10000,\n",
    "        'su_attempted': -10000,\n",
    "        'urgent': -10000,\n",
    "        'wrong_fragment': -10000}\n",
    "nos = ['flag', 'services', 'label', 'protocol_type', 'service']        "
   ]
  },
  {
   "cell_type": "code",
   "execution_count": 17,
   "id": "1795e5f2-4122-462a-bd25-d1e04c5f3985",
   "metadata": {},
   "outputs": [],
   "source": [
    "# for datapoint in ds_train.enumerate():\n",
    "#     for item in datapoint[1].items():\n",
    "#         if item[0] not in nos:\n",
    "#             val = item[1]\n",
    "#             mins[item[0]] = min(float(val), float(mins[item[0]]))\n",
    "#             maxs[item[0]] = max(float(val), float(maxs[item[0]]))\n",
    "# print(\"THE MINS\")\n",
    "# print(mins)\n",
    "# print(\"THE MAXES\")\n",
    "# print(maxs)"
   ]
  },
  {
   "cell_type": "code",
   "execution_count": 18,
   "id": "cedc71e9-49d5-477a-983a-47440dce351f",
   "metadata": {},
   "outputs": [],
   "source": [
    "mins = {'count': 0.0, 'diff_srv_rate': 0.0, 'dst_bytes': 0.0, 'dst_host_count': 0.0, 'dst_host_diff_srv_rate': 0.0, 'dst_host_rerror_rate': 0.0, 'dst_host_same_src_port_rate': 0.0, 'dst_host_same_srv_rate': 0.0, 'dst_host_serror_rate': 0.0, 'dst_host_srv_count': 0.0, 'dst_host_srv_diff_host_rate': 0.0, 'dst_host_srv_rerror_rate': 0.0, 'dst_host_srv_serror_rate': 0.0, 'duration': 0.0, 'hot': 0.0, 'is_guest_login': 0.0, 'is_hot_login': 0.0, 'land': 0.0, 'logged_in': 0.0, 'num_access_files': 0.0, 'num_compromised': 0.0, 'num_failed_logins': 0.0, 'num_file_creations': 0.0, 'num_outbound_cmds': 0.0, 'num_root': 0.0, 'num_shells': 0.0, 'rerror_rate': 0.0, 'root_shell': 0.0, 'same_srv_rate': 0.0, 'serror_rate': 0.0, 'src_bytes': 0.0, 'srv_count': 0.0, 'srv_diff_host_rate': 0.0, 'srv_rerror_rate': 0.0, 'srv_serror_rate': 0.0, 'su_attempted': 0.0, 'urgent': 0.0, 'wrong_fragment': 0.0}\n",
    "maxs = {'count': 511.0, 'diff_srv_rate': 1.0, 'dst_bytes': 1309937401.0, 'dst_host_count': 255.0, 'dst_host_diff_srv_rate': 1.0, 'dst_host_rerror_rate': 1.0, 'dst_host_same_src_port_rate': 1.0, 'dst_host_same_srv_rate': 1.0, 'dst_host_serror_rate': 1.0, 'dst_host_srv_count': 255.0, 'dst_host_srv_diff_host_rate': 1.0, 'dst_host_srv_rerror_rate': 1.0, 'dst_host_srv_serror_rate': 1.0, 'duration': 58329.0, 'hot': 77.0, 'is_guest_login': 1.0, 'is_hot_login': 1.0, 'land': 1.0, 'logged_in': 1.0, 'num_access_files': 9.0, 'num_compromised': 7479.0, 'num_failed_logins': 5.0, 'num_file_creations': 43.0, 'num_outbound_cmds': 0.0, 'num_root': 7468.0, 'num_shells': 2.0, 'rerror_rate': 1.0, 'root_shell': 1.0, 'same_srv_rate': 1.0, 'serror_rate': 1.0, 'src_bytes': 1379963888.0, 'srv_count': 511.0, 'srv_diff_host_rate': 1.0, 'srv_rerror_rate': 1.0, 'srv_serror_rate': 1.0, 'su_attempted': 2.0, 'urgent': 14.0, 'wrong_fragment': 3.0}"
   ]
  },
  {
   "cell_type": "code",
   "execution_count": 29,
   "id": "ca50d3a4-da96-493c-ac81-fa5bd1265fe0",
   "metadata": {},
   "outputs": [
    {
     "data": {
      "text/plain": [
       "array([[1., 1.],\n",
       "       [0., 0.],\n",
       "       [0., 0.],\n",
       "       [0., 0.],\n",
       "       [0., 0.]])"
      ]
     },
     "execution_count": 29,
     "metadata": {},
     "output_type": "execute_result"
    }
   ],
   "source": [
    "a = np.zeros((5, 2))\n",
    "a = np.append(a[0], 9)\n"
   ]
  },
  {
   "cell_type": "code",
   "execution_count": 20,
   "id": "439ecae3-8983-4f55-93a2-0b517dd81f9a",
   "metadata": {},
   "outputs": [
    {
     "name": "stdout",
     "output_type": "stream",
     "text": [
      "(79, 10000)\n"
     ]
    },
    {
     "ename": "AttributeError",
     "evalue": "'numpy.ndarray' object has no attribute 'append'",
     "output_type": "error",
     "traceback": [
      "\u001b[1;31m---------------------------------------------------------------------------\u001b[0m",
      "\u001b[1;31mAttributeError\u001b[0m                            Traceback (most recent call last)",
      "\u001b[1;32m~\\AppData\\Local\\Temp\\ipykernel_13664\\3266438827.py\u001b[0m in \u001b[0;36m<module>\u001b[1;34m\u001b[0m\n\u001b[0;32m     19\u001b[0m         \u001b[1;32melif\u001b[0m \u001b[0mitem\u001b[0m\u001b[1;33m[\u001b[0m\u001b[1;36m0\u001b[0m\u001b[1;33m]\u001b[0m \u001b[1;33m!=\u001b[0m \u001b[1;34m'service'\u001b[0m\u001b[1;33m:\u001b[0m\u001b[1;33m\u001b[0m\u001b[1;33m\u001b[0m\u001b[0m\n\u001b[0;32m     20\u001b[0m             \u001b[1;32mif\u001b[0m \u001b[0mmaxs\u001b[0m\u001b[1;33m[\u001b[0m\u001b[0mitem\u001b[0m\u001b[1;33m[\u001b[0m\u001b[1;36m0\u001b[0m\u001b[1;33m]\u001b[0m\u001b[1;33m]\u001b[0m \u001b[1;33m-\u001b[0m \u001b[0mmins\u001b[0m\u001b[1;33m[\u001b[0m\u001b[0mitem\u001b[0m\u001b[1;33m[\u001b[0m\u001b[1;36m0\u001b[0m\u001b[1;33m]\u001b[0m\u001b[1;33m]\u001b[0m \u001b[1;33m!=\u001b[0m \u001b[1;36m0\u001b[0m\u001b[1;33m:\u001b[0m\u001b[1;33m\u001b[0m\u001b[1;33m\u001b[0m\u001b[0m\n\u001b[1;32m---> 21\u001b[1;33m                 \u001b[0mdataset\u001b[0m\u001b[1;33m[\u001b[0m\u001b[0mi\u001b[0m\u001b[1;33m]\u001b[0m\u001b[1;33m.\u001b[0m\u001b[0mappend\u001b[0m\u001b[1;33m(\u001b[0m\u001b[1;33m(\u001b[0m\u001b[0mfloat\u001b[0m\u001b[1;33m(\u001b[0m\u001b[0mitem\u001b[0m\u001b[1;33m[\u001b[0m\u001b[1;36m1\u001b[0m\u001b[1;33m]\u001b[0m\u001b[1;33m)\u001b[0m \u001b[1;33m-\u001b[0m \u001b[0mmins\u001b[0m\u001b[1;33m[\u001b[0m\u001b[0mitem\u001b[0m\u001b[1;33m[\u001b[0m\u001b[1;36m0\u001b[0m\u001b[1;33m]\u001b[0m\u001b[1;33m]\u001b[0m\u001b[1;33m)\u001b[0m \u001b[1;33m/\u001b[0m \u001b[1;33m(\u001b[0m\u001b[0mmaxs\u001b[0m\u001b[1;33m[\u001b[0m\u001b[0mitem\u001b[0m\u001b[1;33m[\u001b[0m\u001b[1;36m0\u001b[0m\u001b[1;33m]\u001b[0m\u001b[1;33m]\u001b[0m \u001b[1;33m-\u001b[0m \u001b[0mmins\u001b[0m\u001b[1;33m[\u001b[0m\u001b[0mitem\u001b[0m\u001b[1;33m[\u001b[0m\u001b[1;36m0\u001b[0m\u001b[1;33m]\u001b[0m\u001b[1;33m]\u001b[0m\u001b[1;33m)\u001b[0m\u001b[1;33m)\u001b[0m\u001b[1;33m\u001b[0m\u001b[1;33m\u001b[0m\u001b[0m\n\u001b[0m\u001b[0;32m     22\u001b[0m             \u001b[1;32melse\u001b[0m\u001b[1;33m:\u001b[0m\u001b[1;33m\u001b[0m\u001b[1;33m\u001b[0m\u001b[0m\n\u001b[0;32m     23\u001b[0m                 \u001b[0mdataset\u001b[0m\u001b[1;33m[\u001b[0m\u001b[0mi\u001b[0m\u001b[1;33m]\u001b[0m\u001b[1;33m.\u001b[0m\u001b[0mappend\u001b[0m\u001b[1;33m(\u001b[0m\u001b[0mfloat\u001b[0m\u001b[1;33m(\u001b[0m\u001b[0mitem\u001b[0m\u001b[1;33m[\u001b[0m\u001b[1;36m1\u001b[0m\u001b[1;33m]\u001b[0m\u001b[1;33m)\u001b[0m\u001b[1;33m)\u001b[0m\u001b[1;33m\u001b[0m\u001b[1;33m\u001b[0m\u001b[0m\n",
      "\u001b[1;31mAttributeError\u001b[0m: 'numpy.ndarray' object has no attribute 'append'"
     ]
    }
   ],
   "source": [
    "# def preprocess(ds):\n",
    "dataset = [[0] * 79] * len(ds_train)\n",
    "# dataset = np.zeros((79, 10000))\n",
    "print(np.array(dataset).shape)\n",
    "i = -1\n",
    "for datapoint in ds_train.enumerate():\n",
    "    i += 1\n",
    "    if (i >= 100):\n",
    "        break\n",
    "    for item in datapoint[1].items():\n",
    "        if (item[0] == 'protocol_type'):\n",
    "            dataset[i][int(item[1])] = 1\n",
    "        elif (item[0] == 'flag'):\n",
    "            dataset[i][item[1] + 2] = 1\n",
    "        elif (item[0] == 'services'):\n",
    "            dataset[i][item[1] + 14] = 1\n",
    "        elif (item[0] == 'label'):\n",
    "            dataset[i].append(-1 * int(item[1]))\n",
    "        elif item[0] != 'service':\n",
    "            if maxs[item[0]] - mins[item[0]] != 0:\n",
    "                dataset[i].append((float(item[1]) - mins[item[0]]) / (maxs[item[0]] - mins[item[0]]))\n",
    "            else:\n",
    "                dataset[i].append(float(item[1]))\n",
    "print(np.array(dataset).shape)\n",
    "print(dataset[0])"
   ]
  },
  {
   "cell_type": "code",
   "execution_count": null,
   "id": "4a533d3b-9bd7-48a9-8b14-fcc3bbafd81f",
   "metadata": {},
   "outputs": [],
   "source": [
    "dataset = np.array(dataset)\n",
    "np.savetxt(\"dataset.txt\", dataset)\n",
    "content = np.loadtxt('dataset.txt')"
   ]
  },
  {
   "cell_type": "markdown",
   "id": "77408305-d86d-4e43-9ea6-34a133cb3739",
   "metadata": {},
   "source": [
    "Model"
   ]
  },
  {
   "cell_type": "code",
   "execution_count": 6,
   "id": "f28c5ee6-1cb0-4776-813d-19f5e6bfd13b",
   "metadata": {},
   "outputs": [],
   "source": [
    "input_layer = keras.Input((117,))\n",
    "H1 = layers.Dense(32, activation='sigmoid')\n",
    "# D1 = layers.Dense(32)\n",
    "H2 = layers.Dense(32, activation='sigmoid')\n",
    "# D2 = layers.Dense(32)\n",
    "H3 = layers.Dense(32, activation='sigmoid')\n",
    "# D3 = layers.Dense(32)\n",
    "H4 = layers.Dense(32, activation='sigmoid')\n",
    "# D4 = layers.Dense(32)\n",
    "supervised_layer = layers.Dense(5, activation='sigmoid')\n",
    "output_layer = layers.Dense(5, activation='softmax')"
   ]
  },
  {
   "cell_type": "markdown",
   "id": "09adcd12-291c-42cd-b523-ee00494c883c",
   "metadata": {},
   "source": [
    "AutoEncoder 1"
   ]
  },
  {
   "cell_type": "code",
   "execution_count": 8,
   "id": "a37442de-05a5-434e-b3f5-c0a1ad6cb413",
   "metadata": {},
   "outputs": [
    {
     "name": "stdout",
     "output_type": "stream",
     "text": [
      "Model: \"model\"\n",
      "_________________________________________________________________\n",
      " Layer (type)                Output Shape              Param #   \n",
      "=================================================================\n",
      " input_1 (InputLayer)        [(None, 117)]             0         \n",
      "                                                                 \n",
      " dense (Dense)               (None, 32)                3776      \n",
      "                                                                 \n",
      " dense_6 (Dense)             (None, 117)               3861      \n",
      "                                                                 \n",
      "=================================================================\n",
      "Total params: 7,637\n",
      "Trainable params: 7,637\n",
      "Non-trainable params: 0\n",
      "_________________________________________________________________\n"
     ]
    }
   ],
   "source": [
    "encoded1 = H1(input_layer)\n",
    "decoded1 = layers.Dense(117,)(encoded1)\n",
    "auto_encoder1 = keras.Model(input_layer, decoded1)\n",
    "auto_encoder1.compile()\n",
    "auto_encoder1.summary()"
   ]
  },
  {
   "cell_type": "markdown",
   "id": "55029793-57a4-490b-aa05-f29b925cc75c",
   "metadata": {},
   "source": [
    "AutoEncoder 2"
   ]
  },
  {
   "cell_type": "code",
   "execution_count": 9,
   "id": "5b28ccad-cabc-49ed-8847-22c9afc3f784",
   "metadata": {},
   "outputs": [
    {
     "name": "stdout",
     "output_type": "stream",
     "text": [
      "Model: \"model_1\"\n",
      "_________________________________________________________________\n",
      " Layer (type)                Output Shape              Param #   \n",
      "=================================================================\n",
      " input_2 (InputLayer)        [(None, 32)]              0         \n",
      "                                                                 \n",
      " dense_1 (Dense)             (None, 32)                1056      \n",
      "                                                                 \n",
      " dense_7 (Dense)             (None, 32)                1056      \n",
      "                                                                 \n",
      "=================================================================\n",
      "Total params: 2,112\n",
      "Trainable params: 2,112\n",
      "Non-trainable params: 0\n",
      "_________________________________________________________________\n"
     ]
    }
   ],
   "source": [
    "encoded2 = H2(encoded1)\n",
    "decoded2 = layers.Dense(32,)(encoded2)\n",
    "auto_encoder2 = keras.Model(encoded1, decoded2)\n",
    "auto_encoder2.compile()\n",
    "auto_encoder2.summary()"
   ]
  },
  {
   "cell_type": "markdown",
   "id": "de573b6f-5533-4642-9f6b-6579c4f086e0",
   "metadata": {},
   "source": [
    "AutoEncoder 3"
   ]
  },
  {
   "cell_type": "code",
   "execution_count": 10,
   "id": "7d314c4f-989d-413a-a558-7367c5140c96",
   "metadata": {},
   "outputs": [
    {
     "name": "stdout",
     "output_type": "stream",
     "text": [
      "Model: \"model_2\"\n",
      "_________________________________________________________________\n",
      " Layer (type)                Output Shape              Param #   \n",
      "=================================================================\n",
      " input_3 (InputLayer)        [(None, 32)]              0         \n",
      "                                                                 \n",
      " dense_2 (Dense)             (None, 32)                1056      \n",
      "                                                                 \n",
      " dense_8 (Dense)             (None, 32)                1056      \n",
      "                                                                 \n",
      "=================================================================\n",
      "Total params: 2,112\n",
      "Trainable params: 2,112\n",
      "Non-trainable params: 0\n",
      "_________________________________________________________________\n"
     ]
    }
   ],
   "source": [
    "encoded3 = H3(encoded2)\n",
    "decoded3 = layers.Dense(32,)(encoded3)\n",
    "auto_encoder3 = keras.Model(encoded2, decoded3)\n",
    "auto_encoder3.compile()\n",
    "auto_encoder3.summary()"
   ]
  },
  {
   "cell_type": "markdown",
   "id": "e3f57b10-9ce4-4042-bc3f-1ebb6ef6acf0",
   "metadata": {},
   "source": [
    "AutoEncoder 4"
   ]
  },
  {
   "cell_type": "code",
   "execution_count": 11,
   "id": "4fceb81b-8f24-4a92-8b0b-77b89e1c7f4f",
   "metadata": {},
   "outputs": [
    {
     "name": "stdout",
     "output_type": "stream",
     "text": [
      "Model: \"model_3\"\n",
      "_________________________________________________________________\n",
      " Layer (type)                Output Shape              Param #   \n",
      "=================================================================\n",
      " input_4 (InputLayer)        [(None, 32)]              0         \n",
      "                                                                 \n",
      " dense_3 (Dense)             (None, 32)                1056      \n",
      "                                                                 \n",
      " dense_9 (Dense)             (None, 32)                1056      \n",
      "                                                                 \n",
      "=================================================================\n",
      "Total params: 2,112\n",
      "Trainable params: 2,112\n",
      "Non-trainable params: 0\n",
      "_________________________________________________________________\n"
     ]
    }
   ],
   "source": [
    "encoded4 = H4(encoded3)\n",
    "decoded4 = layers.Dense(32,)(encoded4)\n",
    "auto_encoder4 = keras.Model(encoded3, decoded4)\n",
    "auto_encoder4.compile()\n",
    "auto_encoder4.summary()"
   ]
  },
  {
   "cell_type": "markdown",
   "id": "dbc18db9-22c4-4482-9c6f-8342be2fb06a",
   "metadata": {},
   "source": [
    "Train"
   ]
  },
  {
   "cell_type": "code",
   "execution_count": 12,
   "id": "68f6f934-0016-47c9-a324-be82bfcd80ed",
   "metadata": {},
   "outputs": [
    {
     "data": {
      "text/plain": [
       "tfds.core.DatasetInfo(\n",
       "    name='kddcup99',\n",
       "    full_name='kddcup99/1.0.1',\n",
       "    description=\"\"\"\n",
       "    This is the data set used for The Third International Knowledge Discovery and\n",
       "    Data Mining Tools Competition, which was held in conjunction with KDD-99 The\n",
       "    Fifth International Conference on Knowledge Discovery and Data Mining. The\n",
       "    competition task was to build a network intrusion detector, a predictive model\n",
       "    capable of distinguishing between 'bad' connections, called intrusions or\n",
       "    attacks, and 'good' normal connections. This database contains a standard set of\n",
       "    data to be audited, which includes a wide variety of intrusions simulated in a\n",
       "    military network environment.\n",
       "    \"\"\",\n",
       "    homepage='https://kdd.ics.uci.edu/databases/kddcup99/kddcup99.html',\n",
       "    data_path='C:\\\\Users\\\\EhsanQA\\\\tensorflow_datasets\\\\kddcup99\\\\1.0.1',\n",
       "    file_format=tfrecord,\n",
       "    download_size=18.62 MiB,\n",
       "    dataset_size=5.25 GiB,\n",
       "    features=FeaturesDict({\n",
       "        'count': int32,\n",
       "        'diff_srv_rate': float32,\n",
       "        'dst_bytes': int32,\n",
       "        'dst_host_count': int32,\n",
       "        'dst_host_diff_srv_rate': float32,\n",
       "        'dst_host_rerror_rate': float32,\n",
       "        'dst_host_same_src_port_rate': float32,\n",
       "        'dst_host_same_srv_rate': float32,\n",
       "        'dst_host_serror_rate': float32,\n",
       "        'dst_host_srv_count': int32,\n",
       "        'dst_host_srv_diff_host_rate': float32,\n",
       "        'dst_host_srv_rerror_rate': float32,\n",
       "        'dst_host_srv_serror_rate': float32,\n",
       "        'duration': int32,\n",
       "        'flag': ClassLabel(shape=(), dtype=int64, num_classes=11),\n",
       "        'hot': int32,\n",
       "        'is_guest_login': bool,\n",
       "        'is_hot_login': bool,\n",
       "        'label': ClassLabel(shape=(), dtype=int64, num_classes=40),\n",
       "        'land': bool,\n",
       "        'logged_in': bool,\n",
       "        'num_access_files': int32,\n",
       "        'num_compromised': int32,\n",
       "        'num_failed_logins': int32,\n",
       "        'num_file_creations': int32,\n",
       "        'num_outbound_cmds': int32,\n",
       "        'num_root': int32,\n",
       "        'num_shells': int32,\n",
       "        'protocol_type': ClassLabel(shape=(), dtype=int64, num_classes=3),\n",
       "        'rerror_rate': float32,\n",
       "        'root_shell': bool,\n",
       "        'same_srv_rate': float32,\n",
       "        'serror_rate': float32,\n",
       "        'service': ClassLabel(shape=(), dtype=int64, num_classes=71),\n",
       "        'src_bytes': int32,\n",
       "        'srv_count': int32,\n",
       "        'srv_diff_host_rate': float32,\n",
       "        'srv_rerror_rate': float32,\n",
       "        'srv_serror_rate': float32,\n",
       "        'su_attempted': int32,\n",
       "        'urgent': int32,\n",
       "        'wrong_fragment': int32,\n",
       "    }),\n",
       "    supervised_keys=None,\n",
       "    disable_shuffling=False,\n",
       "    splits={\n",
       "        'test': <SplitInfo num_examples=311029, num_shards=4>,\n",
       "        'train': <SplitInfo num_examples=4898431, num_shards=64>,\n",
       "    },\n",
       "    citation=\"\"\"@misc{Dua:2019 ,\n",
       "      author = \"Dua, Dheeru and Graff, Casey\",\n",
       "      year = 2017,\n",
       "      title = \"{UCI} Machine Learning Repository\",\n",
       "      url = \"http://archive.ics.uci.edu/ml\",\n",
       "      institution = \"University of California, Irvine, School of Information and\n",
       "    Computer Sciences\"\n",
       "    }\"\"\",\n",
       ")"
      ]
     },
     "execution_count": 12,
     "metadata": {},
     "output_type": "execute_result"
    }
   ],
   "source": [
    "ds_info"
   ]
  },
  {
   "cell_type": "code",
   "execution_count": 13,
   "id": "ed98d34f-abb6-4bc6-9874-42e88bb0536c",
   "metadata": {},
   "outputs": [
    {
     "name": "stdout",
     "output_type": "stream",
     "text": [
      "tf.Tensor(0, shape=(), dtype=int64)\n",
      "{'count': <tf.Tensor: shape=(), dtype=int32, numpy=2>, 'diff_srv_rate': <tf.Tensor: shape=(), dtype=float32, numpy=0.0>, 'dst_bytes': <tf.Tensor: shape=(), dtype=int32, numpy=0>, 'dst_host_count': <tf.Tensor: shape=(), dtype=int32, numpy=47>, 'dst_host_diff_srv_rate': <tf.Tensor: shape=(), dtype=float32, numpy=0.11>, 'dst_host_rerror_rate': <tf.Tensor: shape=(), dtype=float32, numpy=0.0>, 'dst_host_same_src_port_rate': <tf.Tensor: shape=(), dtype=float32, numpy=0.55>, 'dst_host_same_srv_rate': <tf.Tensor: shape=(), dtype=float32, numpy=0.55>, 'dst_host_serror_rate': <tf.Tensor: shape=(), dtype=float32, numpy=0.0>, 'dst_host_srv_count': <tf.Tensor: shape=(), dtype=int32, numpy=32>, 'dst_host_srv_diff_host_rate': <tf.Tensor: shape=(), dtype=float32, numpy=0.06>, 'dst_host_srv_rerror_rate': <tf.Tensor: shape=(), dtype=float32, numpy=0.0>, 'dst_host_srv_serror_rate': <tf.Tensor: shape=(), dtype=float32, numpy=0.0>, 'duration': <tf.Tensor: shape=(), dtype=int32, numpy=0>, 'flag': <tf.Tensor: shape=(), dtype=int64, numpy=9>, 'hot': <tf.Tensor: shape=(), dtype=int32, numpy=0>, 'is_guest_login': <tf.Tensor: shape=(), dtype=bool, numpy=False>, 'is_hot_login': <tf.Tensor: shape=(), dtype=bool, numpy=False>, 'label': <tf.Tensor: shape=(), dtype=int64, numpy=16>, 'land': <tf.Tensor: shape=(), dtype=bool, numpy=False>, 'logged_in': <tf.Tensor: shape=(), dtype=bool, numpy=True>, 'num_access_files': <tf.Tensor: shape=(), dtype=int32, numpy=0>, 'num_compromised': <tf.Tensor: shape=(), dtype=int32, numpy=0>, 'num_failed_logins': <tf.Tensor: shape=(), dtype=int32, numpy=0>, 'num_file_creations': <tf.Tensor: shape=(), dtype=int32, numpy=0>, 'num_outbound_cmds': <tf.Tensor: shape=(), dtype=int32, numpy=0>, 'num_root': <tf.Tensor: shape=(), dtype=int32, numpy=9>, 'num_shells': <tf.Tensor: shape=(), dtype=int32, numpy=0>, 'protocol_type': <tf.Tensor: shape=(), dtype=int64, numpy=1>, 'rerror_rate': <tf.Tensor: shape=(), dtype=float32, numpy=0.0>, 'root_shell': <tf.Tensor: shape=(), dtype=bool, numpy=False>, 'same_srv_rate': <tf.Tensor: shape=(), dtype=float32, numpy=1.0>, 'serror_rate': <tf.Tensor: shape=(), dtype=float32, numpy=0.0>, 'service': <tf.Tensor: shape=(), dtype=int64, numpy=17>, 'src_bytes': <tf.Tensor: shape=(), dtype=int32, numpy=740>, 'srv_count': <tf.Tensor: shape=(), dtype=int32, numpy=2>, 'srv_diff_host_rate': <tf.Tensor: shape=(), dtype=float32, numpy=0.0>, 'srv_rerror_rate': <tf.Tensor: shape=(), dtype=float32, numpy=0.0>, 'srv_serror_rate': <tf.Tensor: shape=(), dtype=float32, numpy=0.0>, 'su_attempted': <tf.Tensor: shape=(), dtype=int32, numpy=0>, 'urgent': <tf.Tensor: shape=(), dtype=int32, numpy=0>, 'wrong_fragment': <tf.Tensor: shape=(), dtype=int32, numpy=0>}\n"
     ]
    }
   ],
   "source": [
    "for i, item in ds_train.enumerate():\n",
    "    if (i > 0):\n",
    "        break\n",
    "    print(i)\n",
    "    print(item)\n"
   ]
  },
  {
   "cell_type": "code",
   "execution_count": 14,
   "id": "d74bde5a-65c7-4ef8-8b5c-69888e46f02e",
   "metadata": {},
   "outputs": [
    {
     "ename": "NameError",
     "evalue": "name 'x_train' is not defined",
     "output_type": "error",
     "traceback": [
      "\u001b[1;31m---------------------------------------------------------------------------\u001b[0m",
      "\u001b[1;31mNameError\u001b[0m                                 Traceback (most recent call last)",
      "\u001b[1;32m~\\AppData\\Local\\Temp\\ipykernel_24180\\2304300222.py\u001b[0m in \u001b[0;36m<module>\u001b[1;34m\u001b[0m\n\u001b[1;32m----> 1\u001b[1;33m auto_encoder1.fit(x_train, x_train, epochs=50, batch_size=128, shuffle=True, validation_data=(x_train, x_train), \n\u001b[0m\u001b[0;32m      2\u001b[0m             callbacks=[TensorBoard(log_dir='/tmp/autoencoder')])\n",
      "\u001b[1;31mNameError\u001b[0m: name 'x_train' is not defined"
     ]
    }
   ],
   "source": [
    "auto_encoder1.fit(x_train, x_train, epochs=50, batch_size=128, shuffle=True, validation_data=(x_train, x_train), \n",
    "            callbacks=[TensorBoard(log_dir='/tmp/autoencoder')])"
   ]
  },
  {
   "cell_type": "code",
   "execution_count": null,
   "id": "eaf7518a-38ef-42d9-9fd5-244ad6ba34f0",
   "metadata": {},
   "outputs": [],
   "source": []
  },
  {
   "cell_type": "code",
   "execution_count": null,
   "id": "6fd5dcbe-9dcf-4e36-bc62-5cdc4303a27d",
   "metadata": {},
   "outputs": [],
   "source": []
  },
  {
   "cell_type": "code",
   "execution_count": null,
   "id": "a1e9da1c-b024-4040-bb39-92ba9f526f99",
   "metadata": {},
   "outputs": [],
   "source": []
  },
  {
   "cell_type": "code",
   "execution_count": null,
   "id": "b772b8e1-4eb8-4965-b410-67dda00e3936",
   "metadata": {},
   "outputs": [],
   "source": []
  },
  {
   "cell_type": "code",
   "execution_count": null,
   "id": "4375d152-aa3c-4b4f-b056-eee0636ee8e6",
   "metadata": {},
   "outputs": [],
   "source": []
  },
  {
   "cell_type": "code",
   "execution_count": null,
   "id": "9097e1f4-0cb2-48a0-aa26-4e3d6c27d85c",
   "metadata": {},
   "outputs": [],
   "source": []
  },
  {
   "cell_type": "code",
   "execution_count": null,
   "id": "d89daf09-84a8-4979-be0c-25264faea550",
   "metadata": {},
   "outputs": [],
   "source": []
  }
 ],
 "metadata": {
  "kernelspec": {
   "display_name": "Python 3 (ipykernel)",
   "language": "python",
   "name": "python3"
  },
  "language_info": {
   "codemirror_mode": {
    "name": "ipython",
    "version": 3
   },
   "file_extension": ".py",
   "mimetype": "text/x-python",
   "name": "python",
   "nbconvert_exporter": "python",
   "pygments_lexer": "ipython3",
   "version": "3.9.13"
  }
 },
 "nbformat": 4,
 "nbformat_minor": 5
}
